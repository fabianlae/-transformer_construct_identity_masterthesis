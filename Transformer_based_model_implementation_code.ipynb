{
 "cells": [
  {
   "cell_type": "markdown",
   "metadata": {
    "colab_type": "text",
    "id": "UrOiW7s90Ywa"
   },
   "source": [
    "<font size=\"5.5\">**Using Transformer-based Deep Learning Methods to address theConstruct Identity Problem in Information Systems Research andLiterature Reviews**</font> <br>\n",
    "Masterthesis by Fabian Längle"
   ]
  },
  {
   "cell_type": "markdown",
   "metadata": {},
   "source": [
    "<font size=\"4.5\"> **Table of Contents**</font>\n",
    "\n",
    "* [Initialization](#Initialization)\n",
    "    * [Install and import relevant libraries](#intro)\n",
    "    * [Function definition](#func_def)\n",
    "        * [Artifact-specific functions](#art_func)\n",
    "        * [General functions by Ludwig et al. (2020)](#general_func)\n",
    "    * [Variable and data definition](#var_def)\n",
    "    * [Load data](#load)\n",
    "* [Data augmentation](#aug)\n",
    "* [Fine-tuning language model](#ft)\n",
    "    * [Plot training history](#plot)\n",
    "* [Extract features from transformer model](#extract)\n",
    "    * [Plot results as ROC curve](#roc)\n",
    "    * [Compare models on item level](#compare)\n",
    "    * [Visualize attention](#attention)\n",
    "* [LSA and GloVe by Ludwig et al. (2020)](#lsa)\n",
    "* [LSA and GloVe using augmented text corpus](#lsa_aug)\n",
    "* [Appendix](#app)\n"
   ]
  },
  {
   "cell_type": "markdown",
   "metadata": {},
   "source": [
    "# Initialization"
   ]
  },
  {
   "cell_type": "markdown",
   "metadata": {},
   "source": [
    "Install and import relevant packages/libraries. Define custom functions."
   ]
  },
  {
   "cell_type": "markdown",
   "metadata": {},
   "source": [
    "## Install and import relevant libraries <a name=\"intro\"></a>"
   ]
  },
  {
   "cell_type": "code",
   "execution_count": 14,
   "metadata": {
    "colab": {
     "base_uri": "https://localhost:8080/",
     "height": 406
    },
    "colab_type": "code",
    "id": "WgQ5P7qb0Ywc",
    "outputId": "32841801-28e9-40f6-b032-c6c4447fbf13",
    "scrolled": true
   },
   "outputs": [
    {
     "name": "stdout",
     "output_type": "stream",
     "text": [
      "Collecting git+https://github.com/JonathanRaiman/glove.git\n",
      "  Cloning https://github.com/JonathanRaiman/glove.git to /tmp/pip-req-build-26flmk08\n",
      "  Running command git clone -q https://github.com/JonathanRaiman/glove.git /tmp/pip-req-build-26flmk08\n",
      "Requirement already satisfied (use --upgrade to upgrade): glove==1.0.1 from git+https://github.com/JonathanRaiman/glove.git in ./.local/lib/python3.6/site-packages\n",
      "Requirement already satisfied: cython in /opt/tljh/user/lib/python3.6/site-packages (from glove==1.0.1) (0.29.19)\n",
      "Requirement already satisfied: numpy in /opt/tljh/user/lib/python3.6/site-packages (from glove==1.0.1) (1.17.3)\n",
      "Building wheels for collected packages: glove\n",
      "  Building wheel for glove (setup.py) ... \u001b[?25ldone\n",
      "\u001b[?25h  Created wheel for glove: filename=glove-1.0.1-cp36-none-any.whl size=4999 sha256=7acfd99755fb15a13170f4f998f7dd1af4a387e9da93c461c5152fbab3b780fa\n",
      "  Stored in directory: /tmp/pip-ephem-wheel-cache-t4e_idq9/wheels/e4/ea/7c/0e887c01470d73c6b0f3395891804fc2923caca44dd76cdedc\n",
      "Successfully built glove\n"
     ]
    }
   ],
   "source": [
    "# install stemming\n",
    "!pip install --user git+https://github.com/JonathanRaiman/glove.git"
   ]
  },
  {
   "cell_type": "code",
   "execution_count": 15,
   "metadata": {
    "scrolled": true
   },
   "outputs": [
    {
     "name": "stdout",
     "output_type": "stream",
     "text": [
      "Requirement already satisfied: nlpaug in ./.local/lib/python3.6/site-packages (0.0.14)\n",
      "Requirement already satisfied: numpy in /opt/tljh/user/lib/python3.6/site-packages (1.17.3)\n",
      "Requirement already satisfied: matplotlib in /opt/tljh/user/lib/python3.6/site-packages (3.1.1)\n",
      "Requirement already satisfied: python-dotenv in ./.local/lib/python3.6/site-packages (0.13.0)\n",
      "Requirement already satisfied: cycler>=0.10 in /opt/tljh/user/lib/python3.6/site-packages (from matplotlib) (0.10.0)\n",
      "Requirement already satisfied: pyparsing!=2.0.4,!=2.1.2,!=2.1.6,>=2.0.1 in /opt/tljh/user/lib/python3.6/site-packages (from matplotlib) (2.4.4)\n",
      "Requirement already satisfied: python-dateutil>=2.1 in /opt/tljh/user/lib/python3.6/site-packages (from matplotlib) (2.8.1)\n",
      "Requirement already satisfied: kiwisolver>=1.0.1 in /opt/tljh/user/lib/python3.6/site-packages (from matplotlib) (1.1.0)\n",
      "Requirement already satisfied: six in /opt/tljh/user/lib/python3.6/site-packages (from cycler>=0.10->matplotlib) (1.13.0)\n",
      "Requirement already satisfied: setuptools in /opt/tljh/user/lib/python3.6/site-packages (from kiwisolver>=1.0.1->matplotlib) (41.6.0.post20191101)\n"
     ]
    }
   ],
   "source": [
    "# install nlpaug\n",
    "!pip install --user nlpaug numpy matplotlib python-dotenv"
   ]
  },
  {
   "cell_type": "code",
   "execution_count": 16,
   "metadata": {},
   "outputs": [
    {
     "name": "stdout",
     "output_type": "stream",
     "text": [
      "fatal: destination path '/home/jupyter-laengle/github_repos/bertviz' already exists and is not an empty directory.\n",
      "Requirement already satisfied: regex in /opt/tljh/user/lib/python3.6/site-packages (2020.1.8)\n"
     ]
    }
   ],
   "source": [
    "# Install BertViz\n",
    "!test -d bertviz_repo && echo \"FYI: bertviz_repo directory already exists, to pull latest version uncomment this line: !rm -r bertviz_repo\"\n",
    "!test -d bertviz_repo || git clone https://github.com/jessevig/bertviz /home/jupyter-laengle/github_repos/bertviz\n",
    "!pip install regex"
   ]
  },
  {
   "cell_type": "code",
   "execution_count": 1,
   "metadata": {
    "colab": {},
    "colab_type": "code",
    "id": "e5LlSWh6f2n6",
    "init_cell": true
   },
   "outputs": [
    {
     "name": "stdout",
     "output_type": "stream",
     "text": [
      "/home/jupyter-laengle/github_repos/bertviz\n"
     ]
    }
   ],
   "source": [
    "import sklearn\n",
    "from sklearn.feature_extraction import stop_words\n",
    "from sklearn.feature_extraction.text import CountVectorizer\n",
    "from sklearn.feature_extraction.text import TfidfVectorizer\n",
    "from sklearn.preprocessing import Normalizer\n",
    "from sklearn.preprocessing import normalize\n",
    "from sklearn.model_selection import train_test_split\n",
    "from sklearn.decomposition import TruncatedSVD\n",
    "from sklearn.metrics import roc_curve\n",
    "from sklearn.metrics import roc_auc_score\n",
    "from sklearn.metrics.pairwise import cosine_similarity\n",
    "from sklearn.linear_model import SGDClassifier\n",
    "from tqdm.notebook import tqdm\n",
    "from IPython.display import display\n",
    "from stemming.porter2 import stem as stem_porter2\n",
    "from stemming.paicehusk import stem as stem_paicehusk\n",
    "\n",
    "import gc\n",
    "import tqdm.notebook as tqdm\n",
    "import os.path\n",
    "import warnings\n",
    "import csv\n",
    "import random\n",
    "import time\n",
    "import numpy as np\n",
    "import pandas as pd\n",
    "import matplotlib.pyplot as plt\n",
    "import sys\n",
    "import glove\n",
    "import torch\n",
    "import tensorflow as tf\n",
    "import transformers\n",
    "import nlpaug.augmenter.word as naw\n",
    "import pickle\n",
    "import warnings\n",
    "warnings.filterwarnings('ignore')\n",
    "np.set_printoptions(threshold=3000)\n",
    "pd.options.display.max_colwidth = 200\n",
    "%cd github_repos/bertviz\n",
    "from bertviz.transformers_neuron_view import BertModel, BertTokenizer\n",
    "from bertviz.neuron_view import show\n"
   ]
  },
  {
   "cell_type": "markdown",
   "metadata": {
    "colab_type": "text",
    "id": "KLZ4upFuzMRN"
   },
   "source": [
    "## Function definition <a name=\"func_def\"></a>"
   ]
  },
  {
   "cell_type": "markdown",
   "metadata": {},
   "source": [
    "First, we initialize the functions defined by Ludwig et al. (2020) which we assume for the present work. Then we define functions specifically for this work. "
   ]
  },
  {
   "cell_type": "markdown",
   "metadata": {
    "colab_type": "text",
    "id": "ghh0uxf0kdw1"
   },
   "source": [
    "### Artifact-specific functions <a name=\"art_func\"></a>"
   ]
  },
  {
   "cell_type": "code",
   "execution_count": 2,
   "metadata": {
    "init_cell": true
   },
   "outputs": [],
   "source": [
    "def bert_sentence_embedding(sentences, model='BERT', model_dir='', pool_strategy='concat_4'):\n",
    "    \n",
    "    \"\"\"\n",
    "    Creates sentence embeddings based on raw sentence inputs (e.g. corpus_items) by applying either \n",
    "    BERT_base (by Google), DistilBERT (by HuggingFace), RoBERTa (by Facebook) or AlBERT (by Google).\n",
    "    Model output is aggregated to sentence representations.\n",
    "\n",
    "    Parameters:\n",
    "      sentences: list of input sequences\n",
    "      model: BERT, Roberta, DistilBERT, ALBERT, SciBERT, custom_bert, custom_roberta, custom_distilbert, custom_albert\n",
    "      model_dir: directory to custom fine-tuned model\n",
    "      pool_strategy: CLS, concat_4, sum_4, second_to_last, sum_all, last_layer\n",
    "    \n",
    "    \"\"\"\n",
    "    print('Loading ' + model + ' model...')\n",
    "    if model == 'BERT':\n",
    "        model_class, tokenizer_class, config_class, pretrained_weights = (transformers.BertModel, \n",
    "                                                                          transformers.BertTokenizer, \n",
    "                                                                          transformers.BertConfig, \n",
    "                                                                          'bert-base-uncased')\n",
    "    elif model == 'Roberta':\n",
    "        model_class, tokenizer_class, config_class, pretrained_weights = (transformers.RobertaModel, \n",
    "                                                                          transformers.RobertaTokenizer, \n",
    "                                                                          transformers.RobertaConfig, \n",
    "                                                                          'roberta-base')\n",
    "    elif model == 'Distilbert':\n",
    "        model_class, tokenizer_class, config_class, pretrained_weights = (transformers.DistilBertModel, \n",
    "                                                                          transformers.DistilBertTokenizer, \n",
    "                                                                          transformers.DistilBertConfig, \n",
    "                                                                          'distilbert-base-uncased')\n",
    "    elif model == 'Albert':\n",
    "        model_class, tokenizer_class, config_class, pretrained_weights = (transformers.AlbertModel, \n",
    "                                                                          transformers.AlbertTokenizer, \n",
    "                                                                          transformers.AlbertConfig, \n",
    "                                                                          'albert-base-v1')\n",
    "    elif model == 'scibert':\n",
    "        model_class, tokenizer_class, config_class, pretrained_weights = (transformers.BertModel, \n",
    "                                                                          transformers.BertTokenizer, \n",
    "                                                                          transformers.BertConfig, \n",
    "                                                                          'allenai/scibert_scivocab_uncased')      \n",
    "    elif model == 'custom_bert':\n",
    "        model_class, tokenizer_class, config_class, pretrained_weights = (transformers.BertModel, \n",
    "                                                                          transformers.BertTokenizer, \n",
    "                                                                          transformers.BertConfig, \n",
    "                                                                          model_dir) \n",
    "    elif model == 'custom_roberta':\n",
    "        model_class, tokenizer_class, config_class, pretrained_weights = (transformers.RobertaModel, \n",
    "                                                                          transformers.RobertaTokenizer, \n",
    "                                                                          transformers.RobertaConfig, \n",
    "                                                                          model_dir) \n",
    "    elif model == 'custom_distilbert':\n",
    "        model_class, tokenizer_class, config_class, pretrained_weights = (transformers.DistilBertModel, \n",
    "                                                                          transformers.DistilBertTokenizer, \n",
    "                                                                          transformers.DistilBertConfig, \n",
    "                                                                          model_dir) \n",
    "    elif model == 'custom_albert':\n",
    "        model_class, tokenizer_class, config_class, pretrained_weights = (transformers.AlbertModel, \n",
    "                                                                          transformers.AlbertTokenizer, \n",
    "                                                                          transformers.AlbertConfig, \n",
    "                                                                          model_dir)   \n",
    "    else:\n",
    "        model_class, tokenizer_class, config_class, pretrained_weights = (transformers.BertModel, \n",
    "                                                                          transformers.BertTokenizer, \n",
    "                                                                          transformers.BertConfig, \n",
    "                                                                          'bert-base-uncased')\n",
    "        \n",
    "    tokenizer = tokenizer_class.from_pretrained(pretrained_weights)\n",
    "    config = config_class.from_pretrained(pretrained_weights, output_hidden_states=True)\n",
    "    model = model_class.from_pretrained(pretrained_weights, config=config)\n",
    "\n",
    "    sentences = np.array(sentences)\n",
    "    \n",
    "    # tokenize the sentences: break up into words + subwords, add special tokens (e.g. [CLS] and [SEP])\n",
    "    print('Tokenizing corpus...')   \n",
    "    input_ids = []\n",
    "    attention_masks = []\n",
    "\n",
    "    for sent in sentences:\n",
    "        encoded_dict = tokenizer.encode_plus(\n",
    "                                sent,                           \n",
    "                                add_special_tokens = True,      # Add special tokens like '[CLS]' and '[SEP]',\n",
    "                                max_length = 64,                \n",
    "                                pad_to_max_length = True,\n",
    "                                return_attention_mask = True,   \n",
    "                                return_tensors = 'pt',          \n",
    "                        )\n",
    "    \n",
    "        # Add the encoded sentence to list.    \n",
    "        input_ids.append(encoded_dict['input_ids'])\n",
    "        \n",
    "        # Add attention mask.\n",
    "        attention_masks.append(encoded_dict['attention_mask'])\n",
    "\n",
    "    # Convert list to tensors\n",
    "    print('Create tensors...')\n",
    "    input_ids = torch.cat(input_ids, dim=0)\n",
    "    attention_masks = torch.cat(attention_masks, dim=0)\n",
    "\n",
    "    # set model to evaluation mode in order to turn off dropout regularization \n",
    "    model.eval()\n",
    "\n",
    "    print('Run model...')\n",
    "    with torch.no_grad():\n",
    "        hidden_states = model(input_ids=input_ids, attention_mask=attention_masks) \n",
    "\n",
    "    # Get hidden layers as one tensor\n",
    "    if model_name in ['Distilbert', 'custom_distilbert']:\n",
    "        token_embeddings = torch.stack(hidden_states[1], dim=0)\n",
    "    else:\n",
    "        token_embeddings = torch.stack(hidden_states[2], dim=0)\n",
    "\n",
    "    # Rearrange token embeddings for pooling into desired order: items, tokens, layers, embedding\n",
    "    token_embeddings_rearranged = token_embeddings.permute(1,2,0,3)\n",
    "\n",
    "    # Document projection strategies\n",
    "    if pool_strategy == 'CLS':\n",
    "        sent_embeddings = hidden_states[0][:,0,:].numpy()\n",
    "    elif pool_strategy == 'concat_4':\n",
    "        sent_embeddings = concat_4(token_embeddings_rearranged)\n",
    "    elif pool_strategy == 'sum_4':\n",
    "        sent_embeddings = sum_4(token_embeddings_rearranged)\n",
    "    elif pool_strategy == 'second_to_last':\n",
    "        sent_embeddings = second_to_last(token_embeddings_rearranged)\n",
    "    elif pool_strategy == 'sum_all':\n",
    "        sent_embeddings = sum_all(token_embeddings_rearranged)\n",
    "    elif pool_strategy == 'last_layer':\n",
    "        sent_embeddings = last_layer(token_embeddings_rearranged)\n",
    "\n",
    "    return sent_embeddings\n",
    "\n",
    "\n",
    "\n",
    "def concat_4(token_embeddings):\n",
    "    \"\"\"\n",
    "    concatenate the four last hidden layers of rearranged token embeddings \n",
    "    of the format ([sentences, max_tokens, layers, hidden_tokens]).\n",
    "    E.g. ([451, 33, 13, 768])\n",
    "\n",
    "    Document projection through aggregation of all tokens into a sentence representation (unweighted centroid)\n",
    "    \"\"\"\n",
    "    # extract the four last hidden layers\n",
    "    last = token_embeddings.narrow(2, -1, 1)\n",
    "    second_to_last = token_embeddings.narrow(2, -2, 1)\n",
    "    third_to_last = token_embeddings.narrow(2, -3, 1)\n",
    "    fourth_to_last = token_embeddings.narrow(2, -4, 1)\n",
    "  \n",
    "    # concatenate last 4 hidden layers. Resulting shape: ([451, 33, 1, 3072])\n",
    "    aggr_embed_cat_token = torch.cat((last, second_to_last, third_to_last, fourth_to_last), dim=3)\n",
    "\n",
    "    # document projection through aggregation of all tokens into a sentence representation (unweighted centroid)\n",
    "    # Resulting shape: ([451, 1, 3072])\n",
    "    aggr_embed_cat_sent = torch.mean(aggr_embed_cat_token, dim=1)\n",
    "    # Squeeze tensor to remove redundant dimension. Resulting shape: ([451, 3072])\n",
    "    aggr_embed_cat_sent_sq = torch.squeeze(aggr_embed_cat_sent)\n",
    "    return(aggr_embed_cat_sent_sq)\n",
    "\n",
    "\n",
    "\n",
    "def sum_4(token_embeddings):\n",
    "    \"\"\"\n",
    "    Sum the last four hidden layers of rearranged token embeddings \n",
    "    of the format ([sentences, max_tokens, layers, hidden_tokens]).\n",
    "    E.g. ([451, 33, 13, 768])\n",
    "\n",
    "    Document projection through aggregation of all tokens into a sentence representation (unweighted centroid)\n",
    "    \"\"\"\n",
    "    # sum last four hidden layers. Resulting shape ([451, 33, 768])\n",
    "    aggr_embed_sum_token = torch.sum(token_embeddings.narrow(2, -4, 4), dim=2)\n",
    "    # document projection\n",
    "    aggr_embed_sum_sent = torch.mean(aggr_embed_sum_token, dim=1)\n",
    "    return(aggr_embed_sum_sent)\n",
    "\n",
    "\n",
    "\n",
    "def second_to_last(token_embeddings):\n",
    "    \"\"\"\n",
    "    Extract second-to-last hidden layer of rearranged token embeddings \n",
    "    of the format ([sentences, max_tokens, layers, hidden_tokens]).\n",
    "    E.g. ([451, 33, 13, 768])\n",
    "\n",
    "    Document projection through aggregation of all tokens into a sentence representation (unweighted centroid)    \n",
    "    \"\"\"\n",
    "    # slice respective layer. Resulting shape:([451, 33, 1, 768])\n",
    "    aggr_embed_sectolast = token_embeddings.narrow(2, -2, 1)\n",
    "    # document projection\n",
    "    aggr_embed_sectolast_sent = torch.squeeze(torch.mean(aggr_embed_sectolast, dim=1))\n",
    "    return(aggr_embed_sectolast_sent)\n",
    "\n",
    "\n",
    "\n",
    "def sum_all(token_embeddings):\n",
    "    \"\"\"\n",
    "    Sum all hidden layers of rearranged token embeddings \n",
    "    of the format ([sentences, max_tokens, layers, hidden_tokens]).\n",
    "    E.g. ([451, 33, 13, 768])\n",
    "    \n",
    "    Document projection through aggregation of all tokens into a sentence representation (unweighted centroid)\n",
    "    \"\"\"\n",
    "    # Sum up 12 hidden layers. Resulting shape:([451, 33, 768])\n",
    "    aggr_embed_sum_all_token = torch.sum(token_embeddings.narrow(2, 1, 12), dim=2)\n",
    "    # document projection\n",
    "    aggr_embed_sum_all_sent = torch.mean(aggr_embed_sum_all_token, dim=1)\n",
    "    return(aggr_embed_sum_all_sent)\n",
    "\n",
    "\n",
    "\n",
    "def last_layer(token_embeddings):\n",
    "    \"\"\"\n",
    "    Extract last hidden layer of rearranged token embeddings \n",
    "    of the format ([sentences, max_tokens, layers, hidden_tokens]).\n",
    "    E.g. ([451, 33, 13, 768])\n",
    "    \n",
    "    Document projection through aggregation of all tokens into a sentence representation (unweighted centroid)\n",
    "    \"\"\"\n",
    "    # slice respective layer. Resulting shape:([451, 33, 1, 768])\n",
    "    aggr_embed_last_token = token_embeddings.narrow(2, -1, 1)\n",
    "    # document projection\n",
    "    aggr_embed_last_sent = torch.squeeze(torch.mean(aggr_embed_last_token, dim=1))\n",
    "    return(aggr_embed_last_sent)\n",
    "\n",
    "\n",
    "\n",
    "def augment_data(data, alpha=0.1, n=4, k=10):\n",
    "    '''\n",
    "    Takes a list of sentences and augements every sentence n times using substitution and insertion \n",
    "    based on contextual word embeddings by BERT-base-uncased. \n",
    "    Parameters alpha and n are preset with the recommendation elaborated by Wei & Zou (2019)\n",
    "    Parameters:\n",
    "      alpha: Percentage of word will be augmented\n",
    "      n: Number of unique augmented output\n",
    "      k: Top k score token will be used for augmentation    \n",
    "    '''\n",
    "    # Initialize output file\n",
    "    data_aug = []\n",
    "    # prepare n for number of augmentation strategies\n",
    "    n = int(n/2)\n",
    "    \n",
    "    # print('Loading model for contextual embeddings...')\n",
    "    # create substitue augmenter\n",
    "    aug_sub = naw.ContextualWordEmbsAug(model_path='bert-base-uncased', action='substitute', \n",
    "                                        aug_p=alpha, top_k=k, skip_unknown_word=True)\n",
    "    # create insertion augmenter\n",
    "    aug_ins = naw.ContextualWordEmbsAug(model_path='bert-base-uncased', action='insert', \n",
    "                                        aug_p=alpha, top_k=k, skip_unknown_word=True)\n",
    "\n",
    "    # iterate through input sentences\n",
    "    for sentence in data:\n",
    "        # augmented sentences\n",
    "        sent_aug_sub = aug_sub.augment(sentence, n=n)\n",
    "        sent_aug_ins = aug_ins.augment(sentence, n=n)    \n",
    "        data_aug.append(sentence)\n",
    "        data_aug.extend(sent_aug_sub)\n",
    "        data_aug.extend(sent_aug_ins)\n",
    "\n",
    "    return(data_aug)\n",
    "\n",
    "\n",
    "\n",
    "def augment_glove_data(df):\n",
    "    '''\n",
    "    Augments data for GloVe model.\n",
    "    Takes a full gold_items DataFrame (including metadata) and dublicates each item 4 times and augments there text.\n",
    "    Afterwards, ItemOrder and ItemId for every item get updated\n",
    "   \n",
    "    Parameters:\n",
    "        df: Gold items as dataframe including all metadata\n",
    "    '''\n",
    "    # Copy each row 5 times\n",
    "    df_4_fold = df.loc[df.index.repeat(5)].reset_index(drop=True)\n",
    "    # iterate through all data in index steps of 5\n",
    "    # take first sentence, augment it and replace four following duplicates with augmented sentences\n",
    "    for i in tqdm.tqdm(range(0, len(df_4_fold), 5)):\n",
    "        sentence_aug = augment_data([df_4_fold.iloc[i].Text])\n",
    "        try:\n",
    "            df_4_fold.set_value(i+1, 'Text', sentence_aug[1])    \n",
    "            df_4_fold.set_value(i+2, 'Text', sentence_aug[2])\n",
    "            df_4_fold.set_value(i+3, 'Text', sentence_aug[3])    \n",
    "            df_4_fold.set_value(i+4, 'Text', sentence_aug[4])\n",
    "        except IndexError:\n",
    "            continue\n",
    "    # reset the ItemOrder per VariableId for new sentences    \n",
    "    # reset ItemId\n",
    "    df_4_fold = df_4_fold.drop(['ItemOrder'], axis=1)\n",
    "    df_4_fold = df_4_fold.drop(['ItemId'], axis=1)\n",
    "    df_4_fold['ItemOrder'] = df_4_fold.groupby('VariableId').cumcount()+1\n",
    "    df_4_fold.insert(0, 'ItemId', np.arange(1, len(df_4_fold)+1))\n",
    "    return(df_4_fold)\n",
    "\n",
    "\n",
    "\n",
    "def drop_empty_text(df):\n",
    "    '''\n",
    "    Drop items which are too short to be considered for similarity.\n",
    "    \n",
    "    Parameters:\n",
    "        df: Gold items as dataframe including all metadata\n",
    "    '''\n",
    "    short = []\n",
    "    for i, t in enumerate(df['Text']):\n",
    "        if len(t)<17:\n",
    "            short.append(i)\n",
    "    df = df.drop(df.index[short])\n",
    "    return(df)\n",
    "\n",
    "\n",
    "\n",
    "def get_losses_128(path, model_name):\n",
    "    '''\n",
    "    Extracts training and evaluation loss file from log file. Returns dictionary containing losses.\n",
    "    \n",
    "    Parameters:\n",
    "        path: path to log file\n",
    "        model_name: used as prefix in the dictionary\n",
    "    '''\n",
    "    steps = ['train_loss_128', 'eval_loss_128']\n",
    "    losses = {}\n",
    "    for i in steps:\n",
    "        losses[model_name+'_%s' % i] = []\n",
    "    losses_keys = list(losses.keys())\n",
    "    \n",
    "    dir_128 = path[0]\n",
    "    for e in tf.train.summary_iterator(dir_128):\n",
    "        for v in e.summary.value:\n",
    "            if v.tag == 'loss':\n",
    "                losses[losses_keys[0]].append(v.simple_value)\n",
    "            elif v.tag == 'eval_loss':\n",
    "                losses[losses_keys[1]].append(v.simple_value)\n",
    "                \n",
    "    return(losses)\n",
    "\n",
    "\n",
    "\n",
    "\n",
    "def aggregate_construct_similarity_with_itemids(item_similarity, gold_items, variable_ids,\n",
    "                                   n_similarities=2, verbose=False):\n",
    "    \"\"\"\n",
    "    Adjusted function to output a DataFrame containing every contruct pair, with the two item pairs + scores, their\n",
    "    similarity is avereaged from.\n",
    "    ______\n",
    "    Computes construct similarities from item vectors. To aggregate item\n",
    "    cosine similarity to construct similarity, the average similarity of the two most similar items\n",
    "    between each construct pair is taken, as established by (Larsen & Bong, 2016).\n",
    "    Creates upper triangular with zero diagonal for efficiency.\"\"\"\n",
    "    item_similarity = np.asarray(item_similarity)\n",
    "    variable_ids = np.sort(variable_ids)\n",
    "    construct_similarity = np.zeros([len(variable_ids), len(variable_ids)])\n",
    "    n_fields = (len(construct_similarity) ** 2 - len(construct_similarity)) / 2  # n fields in upper triu for print\n",
    "    print(\"Aggregating item to construct similarity...\")\n",
    "    time.sleep(0.5)\n",
    "    var_ids = []\n",
    "    item_pair_1 = []\n",
    "    item_pair_2 = []\n",
    "    for ind_1 in tqdm.trange(len(variable_ids) - 1):  # rows\n",
    "        for ind_2 in range(ind_1 + 1, len(variable_ids)):  # columns\n",
    "            constit_ix_1 = np.where(gold_items['VariableId'] == variable_ids[ind_1])[0]\n",
    "            constit_ix_2 = np.where(gold_items['VariableId'] == variable_ids[ind_2])[0]\n",
    "            # Combine item-indices so they fill the upper triangular of the construct similarity matrix.\n",
    "            item_indices_all = []\n",
    "            for i1 in constit_ix_1:\n",
    "                # create item-indices pairs of every possible combination between the items of the two constructs\n",
    "                item_indices_all += [(i1, i2) for i2 in constit_ix_2]\n",
    "            # save item pair with similarity score\n",
    "            item_sim_sub = [(i, item_similarity[i]) for i in item_indices_all]\n",
    "            # sort by similarity score\n",
    "            item_sim_sub.sort(key=lambda x: x[1])\n",
    "            # save construct pair and item pairs\n",
    "            var_ids.append((variable_ids[ind_1], variable_ids[ind_2]))\n",
    "            item_pair_1.append(item_sim_sub[-2:][1])\n",
    "            item_pair_2.append(item_sim_sub[-2:][0])\n",
    "            # calculate construct similarity\n",
    "            sim_avg = np.average([item_sim_sub[-2:][0][1], item_sim_sub[-2:][1][1]])\n",
    "            construct_similarity[ind_1, ind_2] = sim_avg\n",
    "            \n",
    "    sim_df = pd.DataFrame(list(zip(var_ids, item_pair_1, item_pair_2)), \n",
    "               columns =['var_ids', 'item_pair_1', 'item_pair_2'])\n",
    "    # Set nan values to 0. Origin unknown.\n",
    "    construct_similarity = np.nan_to_num(construct_similarity)\n",
    "    construct_similarity = pd.DataFrame(construct_similarity, index=variable_ids, columns=variable_ids)\n",
    "    return construct_similarity, sim_df\n",
    "\n",
    "\n",
    "\n",
    "\n",
    "def compare_model_threshold(matrix_1, matrix_2, matrix_gold, thresh_1=0.015368, thresh_2=''):\n",
    "    \"\"\"\n",
    "    Compare two construct similarity matrices based on a given thershold (or one threshold per matrix).\n",
    "    \n",
    "    Returns a DataFrame containing the index of every label mismatch, the respective construct pair \n",
    "    and the labels of similarity matrix 1, 2 and gold of every instance.\n",
    "    \n",
    "    Parameters:\n",
    "        matrix_1: First construct similarity matrix for comparison\n",
    "        matrix_2: Second construct similarity matrix for comparison\n",
    "        matrix_gold: Gold standard construct similarity matrix\n",
    "        thresh_1: threshold for binarizing the construct similarity for matrix_1 (and matrix_2)\n",
    "        thresh_2: threshold for binarizing the construct similarity for matrix_2\n",
    "    \"\"\"\n",
    "    # convert comparison matrix and initialize all lists\n",
    "    matrix_1_array = np.asarray(matrix_1)\n",
    "    matrix_2_array = np.asarray(matrix_2)\n",
    "    matrix_gold_array = np.asarray(matrix_gold).astype(int)\n",
    "    if thresh_1 and thresh_2:\n",
    "        matrix_1_bin = (matrix_1_array>thresh_1).astype(int)\n",
    "        matrix_2_bin = (matrix_2_array>thresh_2).astype(int)\n",
    "    else:\n",
    "        matrix_1_bin = (matrix_1_array>thresh_1).astype(int)\n",
    "        matrix_2_bin = (matrix_2_array>thresh_1).astype(int)\n",
    "    mismatch_idx = []\n",
    "    var_id_pair = []\n",
    "    label_1 = []\n",
    "    label_2 = []\n",
    "    gold_label = []\n",
    "    \n",
    "    # compare matrices and save information\n",
    "    for row in range(1054):\n",
    "        # only consider upper triangle\n",
    "        for col in range(row+1, 1054):\n",
    "            if matrix_1_bin[row][col] != matrix_2_bin[row][col]:\n",
    "                mismatch_idx.append((row, col))\n",
    "                var_id_pair.append((matrix_1.index.values[row], matrix_1.index.values[col]))\n",
    "                label_1.append(matrix_1_bin[row][col])\n",
    "                label_2.append(matrix_2_bin[row][col])\n",
    "                gold_label.append(matrix_gold_array[row][col])  \n",
    "    # create summarizing DataFrame\n",
    "    diff_df = pd.DataFrame(list(zip(mismatch_idx, var_id_pair, label_1, label_2, gold_label)), \n",
    "               columns =['mismatch_idx', 'var_id_pair', 'label_1_rem', 'label_2_kept', 'gold_label']) \n",
    "    \n",
    "    return diff_df"
   ]
  },
  {
   "cell_type": "markdown",
   "metadata": {
    "heading_collapsed": true
   },
   "source": [
    "### General functions by Ludwig et al. (2020) <a name=\"general_func\"></a>"
   ]
  },
  {
   "cell_type": "code",
   "execution_count": 3,
   "metadata": {
    "colab": {},
    "colab_type": "code",
    "hidden": true,
    "id": "Y7QoRARbfFNi",
    "init_cell": true
   },
   "outputs": [],
   "source": [
    "def recreate_construct_identity_gold(gold_standard, pool_ids, variable_ids):\n",
    "    \"\"\"Translates the gold standard by Larsen and Bong 2016 into a binary construct identity matrix with ID labeling.\n",
    "    Pass variable_ids, since possibly not all variables are contained in a pool.\"\"\"\n",
    "    # Copyrights of code by Larsen & Bong (2016). Please contact the author for a publication of the code\n",
    "\n",
    "\n",
    "def load_data(filepath, validation_split=0.15, random_state=42, verbose=False):\n",
    "    \"\"\"Load data.\"\"\"\n",
    "     # Copyrights of code by Larsen & Bong (2016). Please contact the author for a publication of the code\n",
    "\n",
    "def parse_text(documents, stemmer=None, lower=True, remove_stop_words=True,\n",
    "               return_config=False, ignore_chars='''.,:;\"'!?-/()[]{}&%0123456789''', verbose=False):\n",
    "    \"\"\"Parses text with options for removing specified characters, removing stop-words, converting to lower-case\n",
    "    and stemming (https://pypi.org/project/stemming/1.0/). Available stemming algorithms are 'porter2' and\n",
    "    'paicehusk'. Paice/Husk seems prone to over-stemming.\n",
    "    Can return the configuration of the stemmer used.\"\"\"\n",
    "    # Copyrights of code by Larsen & Bong (2016). Please contact the author for a publication of the code\n",
    "\n",
    "\n",
    "def document_term_cooccurrence(corpus, processing='tfidf_l2'):\n",
    "    \"\"\"Creates and returns a document-term matrix DataFrame for LSA with the specified processing method.\n",
    "    Also returns the feature names (terms) extracted by the vectorizer. Available processing methods are\n",
    "    'count', 'l2', 'tfidf_l2' and 'log_l2'.\"\"\"\n",
    "     # Copyrights of code by Larsen & Bong (2016). Please contact the author for a publication of the code\n",
    "\n",
    "\n",
    "def term_term_cooccurrence(dt_matrix, verbose=False):\n",
    "    \"\"\"Creates a sparse term-term cooccurrence dictionary for GloVe from dot product of passed document-term matrix.\n",
    "    Indexes terms in corpus and returns both {index: term} and {term: index} to translate in both directions.\"\"\"\n",
    "    # Copyrights of code by Larsen & Bong (2016). Please contact the author for a publication of the code\n",
    "\n",
    "\n",
    "def term_vectors_from_dict(vector_dict, target_terms, normalize=True, verbose=False):\n",
    "    \"\"\"Creates a matrix DataFrame with term vectors of the passed terms from the passed vector dictionary.\n",
    "    Sets term vectors for out-of-vocabulary terms to 0.\"\"\"\n",
    "     # Copyrights of code by Larsen & Bong (2016). Please contact the author for a publication of the code\n",
    "\n",
    "\n",
    "def train_vectors_lsa(dt_matrix, n_components=300, return_doc_vectors=False):\n",
    "    \"\"\"Train term and item vectors with LSA. Both term and document vectors are naturally normalized.\"\"\"\n",
    "    assert len(dt_matrix) >= n_components, \\\n",
    "        \"n docs must be >= n components. \" + str(len(dt_matrix)) + \" < \" + str(n_components)\n",
    "    # Copyrights of code by Larsen & Bong (2016). Please contact the author for a publication of the code\n",
    "\n",
    "\n",
    "def train_vectors_glove(tt_dict, n_components=300, alpha=0.75, x_max=100.0, step_size=0.05, n_epochs=100,\n",
    "                        batch_size=64, workers=4, verbose=False):\n",
    "    \"\"\"Trains vector dictionary from the passed term-term dictionary with the passed hyperparameters.\n",
    "    Default parameters correspond to the parameters reported in Pennington et al. (2014) https://www.aclweb.org/anthology/D14-1162\n",
    "    Glove.init()\n",
    "        cooccurrence dict<int, dict<int, float>> : the co-occurence matrix\n",
    "        alpha float : (default 0.75) hyperparameter for controlling the exponent for normalized co-occurrence counts.\n",
    "        x_max float : (default 100.0) hyperparameter for controlling smoothing for common items in co-occurrence matrix.\n",
    "        d int : (default 50) how many embedding dimensions for learnt vectors\n",
    "        seed int : (default 1234) the random seed\n",
    "    Glove.train()\n",
    "        step_size float : the learning rate for the model\n",
    "        n_epochs int : the number of iterations over the full dataset\n",
    "        workers int : number of worker threads used for training\n",
    "        batch_size int : how many examples should each thread receive (controls the size of the job queue)\"\"\"\n",
    "     # Copyrights of code by Larsen & Bong (2016). Please contact the author for a publication of the code\n",
    "\n",
    "\n",
    "def vector_average(dt_matrix, term_vectors, weighting=False, normalize=True):\n",
    "    \"\"\"Compute the vector centroid of term vectors to form item vectors. If weighting=True,\n",
    "    weighted vector centroid is computed with the entries of the passed dt_matrix.\"\"\"\n",
    "     # Copyrights of code by Larsen & Bong (2016). Please contact the author for a publication of the code\n",
    "\n",
    "\n",
    "def aggregate_item_similarity(dt_matrix, term_vectors, n_similarities=2, verbose=False):\n",
    "    \"\"\"Computes item similarities from term vectors. To aggregate term cosine similarity to item\n",
    "    similarity, the average similarity of the two most similar terms between each item pair is taken. This is\n",
    "    the same concept as established by (Larsen & Bong, 2016) for aggregating construct similarity.\"\"\"\n",
    "     # Copyrights of code by Larsen & Bong (2016). Please contact the author for a publication of the code\n",
    "\n",
    "\n",
    "def aggregate_construct_similarity(item_similarity, gold_items, variable_ids,\n",
    "                                   n_similarities=2, verbose=False):\n",
    "    \"\"\"Computes construct similarities from item vectors. To aggregate item\n",
    "    cosine similarity to construct similarity, the average similarity of the two most similar items\n",
    "    between each construct pair is taken, as established by (Larsen & Bong, 2016).\n",
    "    Creates upper triangular with zero diagonal for efficiency.\"\"\"\n",
    "    # Copyrights of code by Larsen & Bong (2016). Please contact the author for a publication of the code\n",
    "\n",
    "\n",
    "def evaluate(construct_similarity, construct_identity_gold):\n",
    "    \"\"\"Evaluates construct similarity matrix against the (Larsen & Bong, 2016) gold standard with ROC AUC.\"\"\"\n",
    "     # Copyrights of code by Larsen & Bong (2016). Please contact the author for a publication of the code"
   ]
  },
  {
   "cell_type": "markdown",
   "metadata": {
    "colab_type": "text",
    "id": "XqaWDyJI6QRr"
   },
   "source": [
    "## Variable and data definition <a name=\"var_def\"></a>"
   ]
  },
  {
   "cell_type": "code",
   "execution_count": 4,
   "metadata": {
    "colab": {},
    "colab_type": "code",
    "id": "jG6qQPo8goAe",
    "init_cell": true
   },
   "outputs": [],
   "source": [
    "# Define central parameters\n",
    "validation_split = 0.5\n",
    "random_state = 42\n",
    "verbose = True\n",
    "test_ratio = 0.2\n",
    "suffix = 'utf8'\n",
    "filepath = '/home/jupyter-laengle/data/LarsenBong2016GoldStandard.xls'"
   ]
  },
  {
   "cell_type": "markdown",
   "metadata": {},
   "source": [
    "## Load data <a name=\"load\"></a>"
   ]
  },
  {
   "cell_type": "markdown",
   "metadata": {},
   "source": [
    "Utilizing the functions by Ludwig et al. (2020) to load the gold standard dataset"
   ]
  },
  {
   "cell_type": "code",
   "execution_count": 5,
   "metadata": {
    "init_cell": true
   },
   "outputs": [
    {
     "name": "stdout",
     "output_type": "stream",
     "text": [
      "Loading data...\n",
      "No construct identity gold matrix file found. Creating new file...\n"
     ]
    }
   ],
   "source": [
    "print(\"Loading data...\")\n",
    "data = load_data(filepath, validation_split=validation_split, random_state=random_state, verbose=verbose)\n",
    "gold_items_train, gold_items_test, gold_items, pool_ids_train, pool_ids_test, variable_ids_train, variable_ids_test, variable_ids, construct_identity_gold_train, construct_identity_gold_test, construct_identity_gold = data\n",
    "\n",
    "corpus_unstemmed = parse_text(np.asarray(gold_items['Text']), stemmer=None, lower=False, remove_stop_words=True, \n",
    "                              return_config=False, ignore_chars='', verbose=verbose)"
   ]
  },
  {
   "cell_type": "markdown",
   "metadata": {
    "colab_type": "text",
    "id": "qIz55O11rJuB"
   },
   "source": [
    "# Data augmentation <a name=\"aug\"></a>"
   ]
  },
  {
   "cell_type": "code",
   "execution_count": 28,
   "metadata": {},
   "outputs": [],
   "source": [
    "items = gold_items['Text']"
   ]
  },
  {
   "cell_type": "code",
   "execution_count": null,
   "metadata": {},
   "outputs": [],
   "source": [
    "# 80/20 train-test split\n",
    "gold_items_test = items[:int(test_ratio*len(items))]\n",
    "gold_items_train = items[int(test_ratio*len(items)):]\n",
    "\n",
    "# save test items to txt file\n",
    "with open('/home/jupyter-laengle/data/gold_items_test_noleak_8020_' + suffix + '.txt', 'w', encoding='utf-8', errors='ignore') as f:\n",
    "    for s in gold_items_test:\n",
    "        f.write(s + '\\n')"
   ]
  },
  {
   "cell_type": "code",
   "execution_count": 7,
   "metadata": {},
   "outputs": [],
   "source": [
    "# augment train items\n",
    "gold_items_train_aug = augment_data(gold_items_train, alpha=0.1, n=4, k=10)\n",
    "\n",
    "# save train items to txt file\n",
    "with open('/home/jupyter-laengle/data/gold_items_train_noleak_8020_aug_' + suffix + '.txt', 'w', encoding='utf-8', errors='ignore') as f:\n",
    "    for s in gold_items_train_aug:\n",
    "        f.write(s + '\\n')"
   ]
  },
  {
   "cell_type": "markdown",
   "metadata": {},
   "source": [
    "# Fine-tuning language model<a name=\"ft\"></a>"
   ]
  },
  {
   "cell_type": "markdown",
   "metadata": {},
   "source": [
    "One exemplary cell of training the language model of BERT base. The other BERT-variations are trained using the same hyperparameters and the same training data. Only the model_type and model_name_or_path need to be adjusted."
   ]
  },
  {
   "cell_type": "code",
   "execution_count": null,
   "metadata": {},
   "outputs": [],
   "source": [
    "%env script_dir=/home/jupyter-laengle/github_repos/transformers/examples/language-modeling/run_language_modeling.py\n",
    "%env output_dir=/home/jupyter-laengle/output_models/bert_base_noleakage_variations/bert_fine_tuned \n",
    "%env train_data_dir=/home/jupyter-laengle/data/gold_items_train_noleak8020_aug_utf8.txt\n",
    "%env test_data_dir=/home/jupyter-laengle/data/gold_items_test_noleak_8020_utf8.txt\n",
    "%env log_dir=/home/jupyter-laengle/output_models/bert_base_noleakage_variations/bert_fine_tuned/logs\n",
    "\n",
    "!python $script_dir \\\n",
    "    --output_dir=$output_dir \\\n",
    "    --overwrite_output_dir \\\n",
    "    --model_type=bert-base \\\n",
    "    --model_name_or_path=bert-base-uncased \\\n",
    "    --do_train \\\n",
    "    --train_data_file=$train_data_dir \\\n",
    "    --do_eval \\\n",
    "    --eval_data_file=$test_data_dir \\\n",
    "    --evaluate_during_training \\\n",
    "    --mlm \\\n",
    "    --mlm_probability=0.15 \\\n",
    "    --line-by-line \\\n",
    "    --block_size=128 \\\n",
    "    --overwrite_cache \\\n",
    "    --learning_rate=1e-5 \\\n",
    "    --weight_decay=0.90 \\\n",
    "    --adam_epsilon=1e-4 \\\n",
    "    --max_steps=50000 \\\n",
    "    --warmup_steps=5000 \\\n",
    "    --logging_dir=$log_dir \\\n",
    "    --logging_steps=362 \\\n",
    "    --save_steps=20000 \\\n",
    "    --seed=42"
   ]
  },
  {
   "cell_type": "markdown",
   "metadata": {},
   "source": [
    "## Plot training history <a name=\"plot\"></a>"
   ]
  },
  {
   "cell_type": "code",
   "execution_count": 34,
   "metadata": {},
   "outputs": [
    {
     "name": "stdout",
     "output_type": "stream",
     "text": [
      "WARNING:tensorflow:From /opt/tljh/user/lib/python3.6/site-packages/tensorflow_core/python/summary/summary_iterator.py:68: tf_record_iterator (from tensorflow.python.lib.io.tf_record) is deprecated and will be removed in a future version.\n",
      "Instructions for updating:\n",
      "Use eager execution and: \n",
      "`tf.data.TFRecordDataset(path)`\n"
     ]
    }
   ],
   "source": [
    "log_dirs = [['/home/jupyter-laengle/output_models/fine_tuned/bert/logs/events.out.tfevents.1593247674.plato-stud.20066.0'],\n",
    "            ['/home/jupyter-laengle/output_models/fine_tuned/roberta/logs/events.out.tfevents.1593538816.plato-stud.3293.0'],\n",
    "            ['/home/jupyter-laengle/output_models/fine_tuned/albert/logs/events.out.tfevents.1593511763.plato-stud.29139.0'],\n",
    "            ['/home/jupyter-laengle/output_models/fine_tuned/distilbert/logs/events.out.tfevents.1594210767.plato-stud.2016.0']\n",
    "           ]\n",
    "\n",
    "bert_losses = get_losses_128(path=log_dirs[0], model_name='bert')\n",
    "roberta_losses = get_losses_128(path=log_dirs[1], model_name='roberta')\n",
    "albert_losses = get_losses_128(path=log_dirs[2], model_name='albert')\n",
    "distilbert_losses = get_losses_128(path=log_dirs[3], model_name='distilbert')"
   ]
  },
  {
   "cell_type": "code",
   "execution_count": 61,
   "metadata": {},
   "outputs": [
    {
     "data": {
      "text/plain": [
       "<matplotlib.legend.Legend at 0x7efdd9eb4d68>"
      ]
     },
     "execution_count": 61,
     "metadata": {},
     "output_type": "execute_result"
    },
    {
     "data": {
      "image/png": "[encoded data removed]",
      "text/plain": [
       "<Figure size 1152x720 with 4 Axes>"
      ]
     },
     "metadata": {
      "needs_background": "light"
     },
     "output_type": "display_data"
    }
   ],
   "source": [
    "f, ax = plt.subplots(2, 2, figsize=(16, 10), sharex=True)\n",
    "axes = plt.gca()\n",
    "plt.rcParams.update({'font.size': 14})\n",
    "\n",
    "ax[0,0].plot(bert_losses['bert_train_loss_128'])\n",
    "ax[0,0].plot(bert_losses['bert_eval_loss_128'])\n",
    "ax[0,0].grid()\n",
    "ax[0,0].set_ylabel('Loss')\n",
    "ax[0,0].set_xlabel('Epochs')\n",
    "ax[0,0].set_xlim([-3,150])\n",
    "ax[0,0].set_ylim([-0.15,4])\n",
    "ax[0,0].title.set_text('BERT')\n",
    "ax[0,0].legend(['training loss', 'evaluation loss'])\n",
    "ax[1,0].plot(roberta_losses['roberta_train_loss_128'])\n",
    "ax[1,0].plot(roberta_losses['roberta_eval_loss_128'])\n",
    "ax[1,0].grid()\n",
    "ax[1,0].set_ylabel('Loss')\n",
    "ax[1,0].set_xlabel('Epochs')\n",
    "ax[1,0].set_xlim([-3,150])\n",
    "ax[1,0].set_ylim([-0.15,4])\n",
    "ax[1,0].title.set_text('RoBERTa')\n",
    "ax[1,0].legend(['training loss', 'evaluation loss'])\n",
    "ax[0,1].plot(albert_losses['albert_train_loss_128'])\n",
    "ax[0,1].plot(albert_losses['albert_eval_loss_128'])\n",
    "ax[0,1].grid()\n",
    "ax[0,1].set_ylabel('Loss')\n",
    "ax[0,1].set_xlabel('Epochs')\n",
    "ax[0,1].set_xlim([-3,150])\n",
    "ax[0,1].set_ylim([-0.15,4])\n",
    "ax[0,1].title.set_text('ALBERT')\n",
    "ax[0,1].legend(['training loss', 'evaluation loss'])\n",
    "ax[1,1].plot(distilbert_losses['distilbert_train_loss_128'])\n",
    "ax[1,1].plot(distilbert_losses['distilbert_eval_loss_128'])\n",
    "ax[1,1].grid()\n",
    "ax[1,1].set_ylabel('Loss')\n",
    "ax[1,1].set_xlabel('Epochs')\n",
    "ax[1,1].set_xlim([-3,150])\n",
    "ax[1,1].set_ylim([-0.15,4])\n",
    "ax[1,1].title.set_text('DistilBERT')\n",
    "ax[1,1].legend(['training loss', 'evaluation loss'])\n",
    "# plt.savefig('figures/bert_baseline_loss_curve.svg')"
   ]
  },
  {
   "cell_type": "markdown",
   "metadata": {
    "colab_type": "text",
    "id": "INZ0WSZd6X3u"
   },
   "source": [
    "# Extract features from transformer model <a name=\"extract\"></a>"
   ]
  },
  {
   "cell_type": "code",
   "execution_count": null,
   "metadata": {
    "colab": {
     "base_uri": "https://localhost:8080/",
     "height": 105
    },
    "colab_type": "code",
    "id": "uWZD5W4DAR7u",
    "outputId": "95aaacfc-2a69-4434-e561-301d8d0fd783",
    "scrolled": true
   },
   "outputs": [],
   "source": [
    "# Compute construct similarity matrix on item corpus.\n",
    "model_dir = '/home/jupyter-laengle/output_models/bert_base_noleakage_variations/distilbert_slow'\n",
    "model_name = 'custom_distilbert'\n",
    "transformer_embeddings = bert_sentence_embedding(corpus_unstemmed, \n",
    "                                                  model=model_name,\n",
    "                                                  model_dir=model_dir, \n",
    "                                                  pool_strategy='last_layer')\n",
    "\n",
    "# compute item similarity\n",
    "item_similarity = cosine_similarity(transformer_embeddings, transformer_embeddings)\n",
    "\n",
    "# normalize item similarities\n",
    "item_similarity_norm = normalize(item_similarity, axis=1, norm='l2')\n",
    "\n",
    "# compute construct similarity\n",
    "construct_similarity = aggregate_construct_similarity(item_similarity_norm, gold_items, variable_ids,\n",
    "                                                          n_similarities=2, verbose=verbose)\n",
    "\n",
    "print(item_similarity.shape, construct_identity_gold.shape)\n",
    "fpr, tpr, roc_auc, thresh = evaluate(construct_similarity, construct_identity_gold)\n",
    "print(\"ROC AUC Score = %.6f\" % roc_auc)"
   ]
  },
  {
   "cell_type": "markdown",
   "metadata": {},
   "source": [
    "## Plot results as ROC curve <a name=\"roc\"></a>"
   ]
  },
  {
   "cell_type": "markdown",
   "metadata": {},
   "source": [
    "ROC curve for DistilBERT augmented and baseline"
   ]
  },
  {
   "cell_type": "code",
   "execution_count": 63,
   "metadata": {},
   "outputs": [
    {
     "data": {
      "image/png": "[encoded data removed]",
      "text/plain": [
       "<Figure size 864x720 with 1 Axes>"
      ]
     },
     "metadata": {
      "needs_background": "light"
     },
     "output_type": "display_data"
    },
    {
     "name": "stdout",
     "output_type": "stream",
     "text": [
      "ROC AUC DistilBERT fine-tuned augmented = 0.8030\n",
      "ROC AUC DistilBERT baseline = 0.7570\n"
     ]
    }
   ],
   "source": [
    "plt.rcParams.update({'font.size': 18})\n",
    "plt.figure(figsize=(12,10))\n",
    "plt.grid(True, which='major')\n",
    "plt.plot(fpr_aug, tpr_aug, 'k-', label='DistilBERT fine-tuned augmented')\n",
    "plt.plot(fpr_baseline, tpr_baseline, 'k:', label='DistilBERT baseline')\n",
    "plt.xlabel(\"false positive rate [%]\")\n",
    "plt.ylabel(\"true positive rate [%]\")\n",
    "plt.legend()\n",
    "plt.show()\n",
    "print(\"ROC AUC DistilBERT fine-tuned augmented = %.4f\" % roc_auc_aug)\n",
    "print(\"ROC AUC DistilBERT baseline = %.4f\" % roc_auc_baseline)"
   ]
  },
  {
   "cell_type": "markdown",
   "metadata": {},
   "source": [
    "ROC curve for BERT fine-tuned with augmented and original data as well as baseline"
   ]
  },
  {
   "cell_type": "code",
   "execution_count": 6,
   "metadata": {},
   "outputs": [
    {
     "data": {
      "image/png": "[encoded data removed]",
      "text/plain": [
       "<Figure size 864x720 with 1 Axes>"
      ]
     },
     "metadata": {
      "needs_background": "light"
     },
     "output_type": "display_data"
    },
    {
     "name": "stdout",
     "output_type": "stream",
     "text": [
      "ROC AUC BERT fine-tuned augmented last layer = 0.7887\n",
      "ROC AUC BERT fine-tuned original = 0.7742\n",
      "ROC AUC BERT baseline = 0.7541\n"
     ]
    }
   ],
   "source": [
    "plt.rcParams.update({'font.size': 18})\n",
    "plt.figure(figsize=(12,10))\n",
    "plt.grid(True, which='major')\n",
    "plt.plot(fpr_aug, tpr_aug, 'k-', label='BERT fine-tuned augmented')\n",
    "plt.plot(fpr_org, tpr_org, 'k-.', label='BERT fine-tuned original')\n",
    "plt.plot(fpr_baseline, tpr_baseline, 'k:', label='BERT baseline')\n",
    "plt.xlabel(\"false positive rate [%]\")\n",
    "plt.ylabel(\"true positive rate [%]\")\n",
    "plt.legend()\n",
    "plt.show()\n",
    "print(\"ROC AUC BERT fine-tuned augmented last layer = %.4f\" % roc_auc_aug)\n",
    "print(\"ROC AUC BERT fine-tuned original = %.4f\" % roc_auc_org)\n",
    "print(\"ROC AUC BERT baseline = %.4f\" % roc_auc_baseline)"
   ]
  },
  {
   "cell_type": "markdown",
   "metadata": {},
   "source": [
    "## Compare models on item level <a name=\"compare\"></a>"
   ]
  },
  {
   "cell_type": "markdown",
   "metadata": {},
   "source": [
    "Compare impact of extracting features from BERT using items with and without stop words"
   ]
  },
  {
   "cell_type": "markdown",
   "metadata": {},
   "source": [
    "**Extract features using different text corpus**"
   ]
  },
  {
   "cell_type": "code",
   "execution_count": 103,
   "metadata": {},
   "outputs": [],
   "source": [
    "corpus = np.array(gold_items['Text'])\n",
    "corpus_stpwrds_kept =  parse_text(np.asarray(gold_items['Text']), stemmer=None, lower=False,\n",
    "                          remove_stop_words=False, return_config=False,\n",
    "                          ignore_chars='', verbose=verbose)\n",
    "corpus_stpwrds_rem =  parse_text(np.asarray(gold_items['Text']), stemmer=None, lower=False,\n",
    "                          remove_stop_words=True, return_config=False,\n",
    "                          ignore_chars='', verbose=verbose)"
   ]
  },
  {
   "cell_type": "code",
   "execution_count": 110,
   "metadata": {
    "scrolled": false
   },
   "outputs": [
    {
     "name": "stdout",
     "output_type": "stream",
     "text": [
      "Aggregating item to construct similarity...\n"
     ]
    },
    {
     "data": {
      "application/vnd.jupyter.widget-view+json": {
       "model_id": "8cd52173b3de46149f7bce2440bfd725",
       "version_major": 2,
       "version_minor": 0
      },
      "text/plain": [
       "HBox(children=(IntProgress(value=0, max=1053), HTML(value='')))"
      ]
     },
     "metadata": {},
     "output_type": "display_data"
    },
    {
     "name": "stdout",
     "output_type": "stream",
     "text": [
      "\n",
      "(5100, 5100) (1054, 1054)\n",
      "ROC AUC BERT = 0.7827\n"
     ]
    }
   ],
   "source": [
    "# BERT on corpus with stop words\n",
    "model_dir = '/home/jupyter-laengle/output_models/bert_base_noleakage_variations/bert_base_huggingface_slow2_128_2_eval'\n",
    "model_name = 'custom_bert'\n",
    "sentence_embedding_bert = bert_sentence_embedding(corpus_stpwrds_kept,\n",
    "                                                  model=model_name, \n",
    "                                                  model_dir=model_dir, \n",
    "                                                  pool_strategy='last_layer')\n",
    "\n",
    "# compute item similarity\n",
    "item_similarity_bert = cosine_similarity(sentence_embedding_bert, sentence_embedding_bert)\n",
    "\n",
    "# normalize item similarities\n",
    "item_similarity_bert_norm = normalize(item_similarity_bert, axis=1, norm='l2')\n",
    "\n",
    "# compute construct similarity\n",
    "construct_similarity_bert_kept, sim_df_kept = aggregate_construct_similarity_with_itemids(item_similarity_bert_norm, \n",
    "                                                                                          gold_items, variable_ids,\n",
    "                                                                                          n_similarities=2, \n",
    "                                                                                          verbose=verbose)\n",
    "\n",
    "print(item_similarity_bert.shape, construct_identity_gold.shape)\n",
    "fpr_bert_kept, tpr_bert_kept, roc_auc_bert_kept, thresh_kept = evaluate(construct_similarity_bert_kept, \n",
    "                                                                        construct_identity_gold)\n",
    "print(\"ROC AUC BERT = %.4f\" % roc_auc_bert_kept)"
   ]
  },
  {
   "cell_type": "code",
   "execution_count": 112,
   "metadata": {},
   "outputs": [
    {
     "name": "stdout",
     "output_type": "stream",
     "text": [
      "Loading custom_bert model...\n",
      "Tokenizing corpus...\n",
      "Create tensors...\n",
      "Run model...\n",
      "Aggregating item to construct similarity...\n"
     ]
    },
    {
     "data": {
      "application/vnd.jupyter.widget-view+json": {
       "model_id": "82b668a0625e441cb999d7ad9b3a8a43",
       "version_major": 2,
       "version_minor": 0
      },
      "text/plain": [
       "HBox(children=(IntProgress(value=0, max=1053), HTML(value='')))"
      ]
     },
     "metadata": {},
     "output_type": "display_data"
    },
    {
     "name": "stdout",
     "output_type": "stream",
     "text": [
      "\n",
      "(5100, 5100) (1054, 1054)\n",
      "ROC AUC BERT = 0.7887\n"
     ]
    }
   ],
   "source": [
    "# BERT on corpus without stop words\n",
    "model_dir = '/home/jupyter-laengle/output_models/bert_base_noleakage_variations/bert_base_huggingface_slow2_128_2_eval'\n",
    "model_name = 'custom_bert'\n",
    "sentence_embedding_bert = bert_sentence_embedding(corpus_stpwrds_rem, \n",
    "                                                  model=model_name, \n",
    "                                                  model_dir=model_dir, \n",
    "                                                  pool_strategy='last_layer')\n",
    "\n",
    "# compute item similarity\n",
    "item_similarity_bert = cosine_similarity(sentence_embedding_bert, sentence_embedding_bert)\n",
    "\n",
    "# normalize item similarities\n",
    "item_similarity_bert_norm = normalize(item_similarity_bert, axis=1, norm='l2')\n",
    "\n",
    "# compute construct similarity\n",
    "construct_similarity_bert_rem, sim_df_rem = aggregate_construct_similarity_with_itemids(item_similarity_bert_norm, \n",
    "                                                                                               gold_items, variable_ids,\n",
    "                                                                                               n_similarities=2, \n",
    "                                                                                               verbose=verbose)\n",
    "\n",
    "print(item_similarity_bert.shape, construct_identity_gold.shape)\n",
    "fpr_bert_rem, tpr_bert_rem, roc_auc_bert_rem, thresh_rem = evaluate(construct_similarity_bert_rem, \n",
    "                                                                    construct_identity_gold)\n",
    "print(\"ROC AUC BERT = %.4f\" % roc_auc_bert_rem)"
   ]
  },
  {
   "cell_type": "markdown",
   "metadata": {},
   "source": [
    "**Extract discrepancy**"
   ]
  },
  {
   "cell_type": "code",
   "execution_count": 116,
   "metadata": {},
   "outputs": [
    {
     "name": "stdout",
     "output_type": "stream",
     "text": [
      "TPR, FPR and threshold for best spot on ROC curve (stop words kept): \n",
      "  0.6521962057767903 0.19066074160413782 0.01601358875632286\n",
      "TPR, FPR and threshold for best spot on ROC curve (stop words removed): \n",
      "  0.6603999316356178 0.2013167480148612 0.015368063002824783\n"
     ]
    }
   ],
   "source": [
    "# determine best threshold for BERT\n",
    "best_kept = tpr_bert_kept-fpr_bert_kept\n",
    "print('TPR, FPR and threshold for best spot on ROC curve (stop words kept): \\n ', \n",
    "      tpr_bert_kept[best_kept.argmax()], \n",
    "      fpr_bert_kept[best_kept.argmax()], \n",
    "      thresh_kept[best_kept.argmax()])\n",
    "\n",
    "best_rem = tpr_bert_rem-fpr_bert_rem\n",
    "print('TPR, FPR and threshold for best spot on ROC curve (stop words removed): \\n ', \n",
    "      tpr_bert_rem[best_rem.argmax()], \n",
    "      fpr_bert_rem[best_rem.argmax()], \n",
    "      thresh_rem[best_rem.argmax()])"
   ]
  },
  {
   "cell_type": "code",
   "execution_count": 119,
   "metadata": {},
   "outputs": [],
   "source": [
    "# Get discrepancy between both similarity matrices\n",
    "diff_df = compare_model_threshold(construct_similarity_bert_rem, construct_similarity_bert_kept, \n",
    "                                  construct_identity_gold, thresh_1=0.015368063002824783)\n",
    "\n",
    "# get sample with respective labels\n",
    "diff_selection = diff_df.loc[(diff_df['label_1_rem']==0) & \n",
    "                             (diff_df['label_2_kept']==1) & \n",
    "                             (diff_df['gold_label']==0)]\n",
    "diff_samp = diff_selection.sample(3)\n",
    "\n",
    "# alter gold items DataFrame \n",
    "gold_items_rem = gold_items\n",
    "gold_items_rem['Text_rem'] = corpus_stpwrds_rem"
   ]
  },
  {
   "cell_type": "markdown",
   "metadata": {},
   "source": [
    "Print construct pairs with underlying, most similar item pair (with and without stop words)"
   ]
  },
  {
   "cell_type": "code",
   "execution_count": 120,
   "metadata": {},
   "outputs": [
    {
     "name": "stdout",
     "output_type": "stream",
     "text": [
      "Comparing construct pair  (193, 26676)\n",
      "- Stopwords KEPT\n",
      "- Gold label:  0\n",
      "- Predicted label (stopwords kept):  0\n",
      "- Item similarity score:  0.01666869\n",
      "421 Extent to which content of information exchanged (e.g., sales reporting, product information, product availability, inventory information, etc.) with partner company can be interpreted similar to information exchanged with other partners.\n",
      "4361 Evaluate how you feel about the number of further choices or links on each page visited in the website. \n",
      "\n",
      "- Stopwords REMOVED\n",
      "- Gold label:  0\n",
      "- Predicted label (stopwords removed):  1\n",
      "- Item similarity score:  0.014501202\n",
      "419 Extent business processes interfaces partner company similar process interfaces linked channel partners - terms rules procedures.\n",
      "4361 Evaluate feel number choices links page visited website. \n",
      " ___________\n",
      "Comparing construct pair  (21766, 21802)\n",
      "- Stopwords KEPT\n",
      "- Gold label:  0\n",
      "- Predicted label (stopwords kept):  0\n",
      "- Item similarity score:  0.016216729\n",
      "1758 Only very special people fit in organization\n",
      "1851 I find using this web site useful. \n",
      "\n",
      "- Stopwords REMOVED\n",
      "- Gold label:  0\n",
      "- Predicted label (stopwords removed):  1\n",
      "- Item similarity score:  0.015191802\n",
      "1760 New employees need year feel home\n",
      "1849 Using web site increase shopping productivity. \n",
      " ___________\n",
      "Comparing construct pair  (326, 542)\n",
      "- Stopwords KEPT\n",
      "- Gold label:  0\n",
      "- Predicted label (stopwords kept):  0\n",
      "- Item similarity score:  0.016075116\n",
      "675 I can't get some thoughts out of my head.\n",
      "1020 Information I need is on the computer, but it requires special programming to get it out. \n",
      "\n",
      "- Stopwords REMOVED\n",
      "- Gold label:  0\n",
      "- Predicted label (stopwords removed):  1\n",
      "- Item similarity score:  0.015447876\n",
      "675 I can't thoughts head.\n",
      "1020 Information I need computer, requires special programming out. \n",
      " ___________\n"
     ]
    }
   ],
   "source": [
    "for idx, row in diff_samp.iterrows():\n",
    "    # get most similar item pair of two variable_ids from the diff_sample\n",
    "    best_item_pair_rem = sim_df_rem[sim_df_rem['var_ids']==row[1]]\n",
    "    best_item_pair_kept = sim_df_kept[sim_df_kept['var_ids']==row[1]]\n",
    "\n",
    "    for idx3, row3 in best_item_pair_kept.iterrows():\n",
    "        # print the respective items which lead to the highest cos_sim between the constructs\n",
    "        print('Comparing construct pair ', row[1])\n",
    "        print('- Stopwords KEPT')\n",
    "        print('- Gold label: ', row[4])\n",
    "        print('- Predicted label (stopwords kept): ', row[2])\n",
    "        print('- Item similarity score: ', row3[1][1])\n",
    "        print(row3[1][0][0], gold_items_rem.iloc[row3[1][0][0]][3])\n",
    "        print(row3[1][0][1], gold_items_rem.iloc[row3[1][0][1]][3], '\\n')\n",
    "        \n",
    "    for idx2, row2 in best_item_pair_rem.iterrows():\n",
    "        # print the respective items which lead to the highest cos_sim between the constructs\n",
    "        print('- Stopwords REMOVED')\n",
    "        print('- Gold label: ', row[4])\n",
    "        print('- Predicted label (stopwords removed): ', row[3])\n",
    "        print('- Item similarity score: ', row2[1][1])\n",
    "        print(row2[1][0][0], gold_items_rem.iloc[row2[1][0][0]][-1])\n",
    "        print(row2[1][0][1], gold_items_rem.iloc[row2[1][0][1]][-1], '\\n', '___________')"
   ]
  },
  {
   "cell_type": "markdown",
   "metadata": {},
   "source": [
    "## Vizualize attention <a name=\"attention\"></a>"
   ]
  },
  {
   "cell_type": "code",
   "execution_count": 191,
   "metadata": {},
   "outputs": [],
   "source": [
    "def call_html():\n",
    "    import IPython\n",
    "    display(IPython.core.display.HTML('''\n",
    "          <script src=\"/static/components/requirejs/require.js\"></script>\n",
    "          <script>\n",
    "            requirejs.config({\n",
    "              paths: {\n",
    "                base: '/static/base',\n",
    "                \"d3\": \"https://cdnjs.cloudflare.com/ajax/libs/d3/5.7.0/d3.min\",\n",
    "                jquery: '//ajax.googleapis.com/ajax/libs/jquery/2.0.0/jquery.min',\n",
    "              },\n",
    "            });\n",
    "          </script>\n",
    "          '''))"
   ]
  },
  {
   "cell_type": "code",
   "execution_count": null,
   "metadata": {
    "scrolled": false
   },
   "outputs": [],
   "source": [
    "model_type = 'bert'\n",
    "model_version = '/home/jupyter-laengle/output_models/bert_base_leakage_variations/bert_base_huggingface_slow2_128_2_eval'\n",
    "do_lower_case = True\n",
    "model = BertModel.from_pretrained(model_version)\n",
    "tokenizer = BertTokenizer.from_pretrained(model_version, do_lower_case=do_lower_case)\n",
    "sentence_a = 'I believe organization actively monitors content employees’ e-mail messages.' # 1867\n",
    "sentence_b = 'I think people read previous posts.' # 3129\n",
    "# 519 I think seller honest.\n",
    "# 3533 Overall, people trustworthy.\n",
    "# layer 10 head 10 (honest- trustworthy)\n",
    "\n",
    "\n",
    "call_html()\n",
    "show(model, model_type, tokenizer, sentence_a, sentence_b)"
   ]
  },
  {
   "cell_type": "markdown",
   "metadata": {
    "colab_type": "text",
    "id": "n08iSuUGJsXo"
   },
   "source": [
    "# LSA and GloVe by Ludwig et al. (2020) <a name=\"lsa\"></a>"
   ]
  },
  {
   "cell_type": "code",
   "execution_count": null,
   "metadata": {},
   "outputs": [],
   "source": [
    "# Define central parameters\n",
    "validation_split = 0.5\n",
    "random_state = 45\n",
    "stemmer = 'porter2'\n",
    "ignore_chars = '''.,:;\"'!?_-/()[]{}&%0123456789'''\n",
    "dtm_processing = 'tfidf_l2'  # 'count', 'l2', 'tfidf_l2', 'log_l2'\n",
    "verbose = True\n",
    "filepath = '/home/jupyter-laengle/data/LarsenBong2016GoldStandard.xls'"
   ]
  },
  {
   "cell_type": "code",
   "execution_count": 74,
   "metadata": {
    "colab": {
     "base_uri": "https://localhost:8080/",
     "height": 371
    },
    "colab_type": "code",
    "id": "mU6zrrs9gz49",
    "outputId": "a7bba59d-31cd-4663-a5f9-38fb1e3a6f4c",
    "scrolled": true
   },
   "outputs": [
    {
     "name": "stdout",
     "output_type": "stream",
     "text": [
      "Loading data...\n",
      "No construct identity gold matrix file found. Creating new file...\n",
      "Parsing texts...\n",
      "ValueError occurred when stemming the following words: ['dms', 'm', 'dp', 'dw', 'typically', 'q', 'type', 's', 'hr', 'clients', 'tmt', 'd', 'try', 't', 'trying', 'cpc', 'prior', 'client', 'g'] \n",
      "\n",
      "ValueError occurred when stemming the following words: ['m', 'dp', 'dw', 'typically', 'q', 'type', 's', 'hr', 'clients', 'tmt', 'd', 'try', 'cpc', 'client', 'g'] \n",
      "\n",
      "ValueError occurred when stemming the following words: ['dms', 'm', 'dw', 's', 'tmt', 't', 'trying', 'prior', 'client', 'g'] \n",
      "\n",
      "Creating document-term matrices (docs x terms)...\n",
      "Creating term-term dictionaries (terms x terms)...\n"
     ]
    },
    {
     "data": {
      "application/vnd.jupyter.widget-view+json": {
       "model_id": "5133666c556146ff84c43dae8bfd8fe0",
       "version_major": 2,
       "version_minor": 0
      },
      "text/plain": [
       "HBox(children=(IntProgress(value=0, max=747), HTML(value='')))"
      ]
     },
     "metadata": {},
     "output_type": "display_data"
    },
    {
     "name": "stdout",
     "output_type": "stream",
     "text": [
      "\n"
     ]
    },
    {
     "data": {
      "application/vnd.jupyter.widget-view+json": {
       "model_id": "59fbb2cae464482f87f45c163f19f22e",
       "version_major": 2,
       "version_minor": 0
      },
      "text/plain": [
       "HBox(children=(IntProgress(value=0, max=492), HTML(value='')))"
      ]
     },
     "metadata": {},
     "output_type": "display_data"
    },
    {
     "name": "stdout",
     "output_type": "stream",
     "text": [
      "\n"
     ]
    },
    {
     "data": {
      "application/vnd.jupyter.widget-view+json": {
       "model_id": "e19a2dbbab524b139ed437be72ebb29f",
       "version_major": 2,
       "version_minor": 0
      },
      "text/plain": [
       "HBox(children=(IntProgress(value=0, max=453), HTML(value='')))"
      ]
     },
     "metadata": {},
     "output_type": "display_data"
    },
    {
     "name": "stdout",
     "output_type": "stream",
     "text": [
      "\n",
      "Done.\n",
      "pool_ids train/test: (26,) (26,)\n",
      "variable_ids all/train/test: (99,) (56,) (43,)\n",
      "gold_items all/train/test: (451, 9) (234, 9) (217, 9)\n",
      "construct_identity_gold all/train/test: (99, 99) (56, 56) (43, 43)\n"
     ]
    }
   ],
   "source": [
    "# Load and prepare data (will take some time). Train-validation split uses random shuffling.\n",
    "random_state = 45\n",
    "print(\"Loading data...\")\n",
    "data = load_data(filepath, validation_split=validation_split, random_state=random_state, verbose=verbose)\n",
    "gold_items_train, gold_items_test, gold_items, pool_ids_train, pool_ids_test, variable_ids_train, variable_ids_test, variable_ids, construct_identity_gold_train, construct_identity_gold_test, construct_identity_gold = data\n",
    "\n",
    "# Process construct item text corpus.\n",
    "print(\"Parsing texts...\")\n",
    "corpus_items = parse_text(np.asarray(gold_items['Text']), stemmer=stemmer, lower=True,\n",
    "                          remove_stop_words=True, return_config=False,\n",
    "                          ignore_chars=ignore_chars, verbose=verbose)\n",
    "corpus_items_train = parse_text(np.asarray(gold_items_train['Text']), stemmer=stemmer, lower=True,\n",
    "                                remove_stop_words=True, return_config=False,\n",
    "                                ignore_chars=ignore_chars, verbose=verbose)\n",
    "corpus_items_test = parse_text(np.asarray(gold_items_test['Text']), stemmer=stemmer, lower=True,\n",
    "                               remove_stop_words=True, return_config=False,\n",
    "                               ignore_chars=ignore_chars, verbose=verbose)\n",
    "\n",
    "# Create document-term matrices (LSA) and term-term dictionary (GloVe).\n",
    "print(\"Creating document-term matrices (docs x terms)...\")\n",
    "dtm_items, terms_items = document_term_cooccurrence(corpus_items, processing=dtm_processing)\n",
    "dtm_items_train, terms_items_train = document_term_cooccurrence(corpus_items_train, processing=dtm_processing)\n",
    "dtm_items_test, terms_items_test = document_term_cooccurrence(corpus_items_test, processing=dtm_processing)\n",
    "print(\"Creating term-term dictionaries (terms x terms)...\")\n",
    "# ttd_items is a sparse term co-occurance dict\n",
    "ttd_items, dict_term_ix_items, dict_ix_term_items = term_term_cooccurrence(dtm_items, verbose=verbose)\n",
    "ttd_items_train, dict_term_ix_items_train, dict_ix_term_items_train = term_term_cooccurrence(dtm_items_train, verbose=verbose)\n",
    "ttd_items_test, dict_term_ix_items_test, dict_ix_term_items_test = term_term_cooccurrence(dtm_items_test, verbose=verbose)\n",
    "assert variable_ids.shape[0] == construct_identity_gold.shape[0], (variable_ids.shape[0], construct_identity_gold.shape[0])\n",
    "print(\"Done.\")\n",
    "print(\"pool_ids train/test:\", pool_ids_train.shape, pool_ids_test.shape)\n",
    "print(\"variable_ids all/train/test:\", variable_ids.shape, variable_ids_train.shape, variable_ids_test.shape)\n",
    "print(\"gold_items all/train/test:\", gold_items.shape, gold_items_train.shape, gold_items_test.shape)\n",
    "print(\"construct_identity_gold all/train/test:\", construct_identity_gold.shape, construct_identity_gold_train.shape, construct_identity_gold_test.shape)"
   ]
  },
  {
   "cell_type": "markdown",
   "metadata": {
    "colab_type": "text",
    "id": "Vd9mlavJtA-C"
   },
   "source": [
    "**LSA**"
   ]
  },
  {
   "cell_type": "code",
   "execution_count": null,
   "metadata": {
    "colab": {
     "base_uri": "https://localhost:8080/",
     "height": 105
    },
    "colab_type": "code",
    "id": "RFjbKU6ZhAMH",
    "outputId": "3dade3ec-ab1b-49a8-bedb-3fd01cb1278e"
   },
   "outputs": [
    {
     "name": "stdout",
     "output_type": "stream",
     "text": [
      "Computing construct similarity matrix with LSA...\n",
      "Aggregating item to construct similarity...\n"
     ]
    },
    {
     "name": "stderr",
     "output_type": "stream",
     "text": [
      "100%|██████████| 1053/1053 [05:44<00:00,  3.06it/s]\n"
     ]
    },
    {
     "name": "stdout",
     "output_type": "stream",
     "text": [
      "(1054, 1054) (1054, 1054)\n",
      "ROC AUC LSA = 0.823\n"
     ]
    }
   ],
   "source": [
    "# Compute construct similarity matrix with LSA on item corpus.\n",
    "print(\"Computing construct similarity matrix with LSA...\")\n",
    "use_doc_vectors_lsa = True  # use document vectors\n",
    "lsa_aggregation = False     # if not document vectors, use top 2 (n2) aggregation or vector averaging\n",
    "# LSA as dimensionality reduction. Document-term-matrix turns into Document-component-matrix (n_components=300)\n",
    "vector_dict_lsa, item_vectors_lsa = train_vectors_lsa(dtm_items, n_components=300, return_doc_vectors=True)\n",
    "if use_doc_vectors_lsa:\n",
    "    # Use document-vectors.\n",
    "    item_similarity_lsa = pd.DataFrame(np.asmatrix(item_vectors_lsa) * np.asmatrix(item_vectors_lsa).T,\n",
    "                                       index=gold_items, columns=gold_items)\n",
    "else:\n",
    "    term_vectors_lsa = term_vectors_from_dict(vector_dict_lsa, terms_items, normalize=True, verbose=verbose)\n",
    "    if lsa_aggregation:\n",
    "        # Term to item vector aggregation.\n",
    "        item_similarity_lsa = aggregate_item_similarity(dtm_items, term_vectors_lsa, n_similarities=2, verbose=verbose)\n",
    "    else:\n",
    "        # Term vector averaging.\n",
    "        item_vectors_lsa_avg = vector_average(dtm_items, term_vectors_lsa, weighting=False)\n",
    "        item_similarity_lsa = pd.DataFrame(np.asarray(\n",
    "            np.asmatrix(item_vectors_lsa_avg) * np.asmatrix(item_vectors_lsa_avg).T),\n",
    "            index=item_vectors_lsa_avg.index.values, columns=item_vectors_lsa_avg.index.values)\n",
    "construct_similarity_lsa = aggregate_construct_similarity(item_similarity_lsa, gold_items, variable_ids,\n",
    "                                                          n_similarities=2, verbose=verbose)\n",
    "print(construct_similarity_lsa.shape, construct_identity_gold.shape)\n",
    "fpr_lsa, tpr_lsa, roc_auc_lsa = evaluate(construct_similarity_lsa, construct_identity_gold)\n",
    "print(\"ROC AUC LSA = %.3f\" % roc_auc_lsa)"
   ]
  },
  {
   "cell_type": "markdown",
   "metadata": {
    "colab_type": "text",
    "id": "gtvOov3RtEoH"
   },
   "source": [
    "**GloVe**"
   ]
  },
  {
   "cell_type": "code",
   "execution_count": 26,
   "metadata": {
    "colab": {
     "base_uri": "https://localhost:8080/",
     "height": 102
    },
    "colab_type": "code",
    "id": "DqO__cSDh7Bl",
    "outputId": "b5a97777-edf7-4dc4-9abf-0d36b59f9e02"
   },
   "outputs": [
    {
     "name": "stdout",
     "output_type": "stream",
     "text": [
      "Computing construct similarity matrix with self-trained GloVe...\n",
      "Created term vectors from dictionary. 0 OOV words.\n",
      "Aggregating item to construct similarity...\n"
     ]
    },
    {
     "data": {
      "application/vnd.jupyter.widget-view+json": {
       "model_id": "c7600563f9b14899aa2c8bdb3fa290df",
       "version_major": 2,
       "version_minor": 0
      },
      "text/plain": [
       "HBox(children=(IntProgress(value=0, max=1053), HTML(value='')))"
      ]
     },
     "metadata": {},
     "output_type": "display_data"
    },
    {
     "name": "stdout",
     "output_type": "stream",
     "text": [
      "\n",
      "ROC AUC self-trained GloVe on FULL corpus = 0.829\n"
     ]
    }
   ],
   "source": [
    "# Compute construct similarity matrix with self-trained GloVe on FULL item corpus.\n",
    "print(\"Computing construct similarity matrix with self-trained GloVe...\")\n",
    "glove_aggregation = False  # aggregate items by top-n similarity like with constructs\n",
    "vector_dict_trglove, loss_glove_items = train_vectors_glove(ttd_items, n_components=300, alpha=0.4, x_max=10.0,\n",
    "                                                            step_size=0.2, n_epochs=100, batch_size=64, workers=4,\n",
    "                                                            verbose=False)  # Train vectors.\n",
    "vector_dict_trglove = {dict_ix_term_items[key]: value for key, value in\n",
    "                       vector_dict_trglove.items()}  # Translate indices.\n",
    "term_vectors_trglove = term_vectors_from_dict(vector_dict_trglove, terms_items, normalize=True, verbose=True)\n",
    "if glove_aggregation:\n",
    "    item_similarity_trglove = aggregate_item_similarity(dtm_items, term_vectors_trglove, n_similarities=2,\n",
    "                                                        verbose=verbose)\n",
    "else:\n",
    "    item_vectors_trglove = vector_average(dtm_items, term_vectors_trglove, weighting=False)\n",
    "    # Compute item similarity. Set negative values to 0, unknown source.\n",
    "    item_similarity_trglove = pd.DataFrame(np.asarray(\n",
    "        np.asmatrix(item_vectors_trglove) * np.asmatrix(item_vectors_trglove).T).clip(min=0),\n",
    "                                           index=item_vectors_trglove.index.values,\n",
    "                                           columns=item_vectors_trglove.index.values)\n",
    "construct_similarity_trglove = aggregate_construct_similarity(item_similarity_trglove, gold_items, variable_ids,\n",
    "                                                              n_similarities=2, verbose=verbose)\n",
    "fpr_trglove, tpr_trglove, roc_auc_trglove = evaluate(construct_similarity_trglove, construct_identity_gold)\n",
    "time.sleep(0.5)\n",
    "print(\"ROC AUC self-trained GloVe on FULL corpus = %.3f\" % roc_auc_trglove)"
   ]
  },
  {
   "cell_type": "markdown",
   "metadata": {},
   "source": [
    "# LSA and GloVe using augmented text corpus <a name=\"lsa_aug\"></a>"
   ]
  },
  {
   "cell_type": "code",
   "execution_count": 35,
   "metadata": {},
   "outputs": [
    {
     "name": "stdout",
     "output_type": "stream",
     "text": [
      "Loading data...\n",
      "No construct identity gold matrix file found. Creating new file...\n"
     ]
    },
    {
     "data": {
      "application/vnd.jupyter.widget-view+json": {
       "model_id": "9b0a9eb30fa548d5b3f9c10c7b1a17cd",
       "version_major": 2,
       "version_minor": 0
      },
      "text/plain": [
       "HBox(children=(IntProgress(value=0, max=5100), HTML(value='')))"
      ]
     },
     "metadata": {},
     "output_type": "display_data"
    },
    {
     "name": "stdout",
     "output_type": "stream",
     "text": [
      "\n",
      "Parsing texts...\n",
      "ValueError occurred when stemming the following words: ['typical', 'threats', 'fbi', 'g', 'c', 'nt', 'pws', 'wk', 'f', '¹⁄₂', 'priorities', 'dw', 'dvd', 'cycles', 'flies', 'crc', 't', 'v', 'style', 'x', 'st', 'm', 'cycle', 'n', 'threat', 'tmt', 'tv', 'stylish', 'cbt', 'trial', 'client', 'x’s', 'physics', 'd', 'typically', 'l', 'clients', 'science', 'scientific', 'ysm', 'physical', 'pseudo', 'physically', 'try', 'nf', 'ms', 'micros', 'tried', 'k', 'priority', 'cds', 'threatened', 'trying', 'dr', 'dp', 'prior', 'pc', 'mds', 's', 'pcs', 'sf', 'xml', 'npd', 'h', 'th', 'p', 'crm', 'www', 'dvds', 'hr', 'dms', 'cpc', 'styles', 'type', 'q', 'cd', 'ss', 'dfd', 'types', 'r'] \n",
      "\n",
      "Creating document-term matrices (docs x terms)...\n",
      "Creating term-term dictionaries (terms x terms)...\n"
     ]
    },
    {
     "data": {
      "application/vnd.jupyter.widget-view+json": {
       "model_id": "bd67baff9bf84b548d721b50b377d513",
       "version_major": 2,
       "version_minor": 0
      },
      "text/plain": [
       "HBox(children=(IntProgress(value=0, max=2658), HTML(value='')))"
      ]
     },
     "metadata": {},
     "output_type": "display_data"
    },
    {
     "name": "stdout",
     "output_type": "stream",
     "text": [
      "\n",
      "Done.\n",
      "len of gold_items, corpus_items and dtm_items:  25171 25171 25171\n",
      "pool_ids train/test: (173,) (174,)\n",
      "variable_ids all/train/test: (1054,) (471,) (533,)\n",
      "gold_items all/train/test: (25171, 9) (2112, 9) (2639, 9)\n",
      "construct_identity_gold all/train/test: (1054, 1054) (471, 471) (533, 533)\n"
     ]
    }
   ],
   "source": [
    "random_state = 45\n",
    "print(\"Loading data...\")\n",
    "data = load_data(filepath, validation_split=validation_split, random_state=random_state, verbose=verbose)\n",
    "gold_items_train, gold_items_test, gold_items, pool_ids_train, pool_ids_test, variable_ids_train, variable_ids_test, variable_ids, construct_identity_gold_train, construct_identity_gold_test, construct_identity_gold = data\n",
    "\n",
    "gold_items = augment_glove_data(gold_items)\n",
    "gold_items = drop_empty_text(gold_items)\n",
    "\n",
    "# Process construct item text corpus.\n",
    "print(\"Parsing texts...\")\n",
    "corpus_items = parse_text(np.asarray(gold_items['Text']), stemmer=stemmer, lower=True,\n",
    "                          remove_stop_words=True, return_config=False,\n",
    "                          ignore_chars=ignore_chars, verbose=verbose)\n",
    "\n",
    "# Create document-term matrices (LSA) and term-term dictionary (GloVe).\n",
    "print(\"Creating document-term matrices (docs x terms)...\")\n",
    "dtm_items, terms_items = document_term_cooccurrence(corpus_items, processing=dtm_processing)\n",
    "print(\"Creating term-term dictionaries (terms x terms)...\")\n",
    "# ttd_items is a sparse term co-occurance dict\n",
    "ttd_items, dict_term_ix_items, dict_ix_term_items = term_term_cooccurrence(dtm_items, verbose=verbose)\n",
    "\n",
    "assert variable_ids.shape[0] == construct_identity_gold.shape[0], (variable_ids.shape[0], construct_identity_gold.shape[0])\n",
    "print(\"Done.\")\n",
    "print('len of gold_items, corpus_items and dtm_items: ', len(gold_items), len(corpus_items), len(dtm_items))\n",
    "print(\"pool_ids train/test:\", pool_ids_train.shape, pool_ids_test.shape)\n",
    "print(\"variable_ids all/train/test:\", variable_ids.shape, variable_ids_train.shape, variable_ids_test.shape)\n",
    "print(\"gold_items all/train/test:\", gold_items.shape, gold_items_train.shape, gold_items_test.shape)\n",
    "print(\"construct_identity_gold all/train/test:\", construct_identity_gold.shape, construct_identity_gold_train.shape, construct_identity_gold_test.shape)"
   ]
  },
  {
   "cell_type": "markdown",
   "metadata": {},
   "source": [
    "**LSA**"
   ]
  },
  {
   "cell_type": "code",
   "execution_count": null,
   "metadata": {},
   "outputs": [],
   "source": [
    "# Compute construct similarity matrix with LSA on augmented item corpus.\n",
    "print(\"Computing construct similarity matrix with LSA...\")\n",
    "use_doc_vectors_lsa = True  # use document vectors\n",
    "lsa_aggregation = False     # if not document vectors, use top 2 (n2) aggregation or vector averaging\n",
    "# LSA as dimensionality reduction. Document-term-matrix turns into Document-component-matrix (n_components=300)\n",
    "vector_dict_lsa, item_vectors_lsa = train_vectors_lsa(dtm_items, n_components=300, return_doc_vectors=True)\n",
    "if use_doc_vectors_lsa:\n",
    "    # Use document-vectors.\n",
    "    item_similarity_lsa = pd.DataFrame(np.asmatrix(item_vectors_lsa) * np.asmatrix(item_vectors_lsa).T,\n",
    "                                       index=gold_items, columns=gold_items)\n",
    "else:\n",
    "    term_vectors_lsa = term_vectors_from_dict(vector_dict_lsa, terms_items, normalize=True, verbose=verbose)\n",
    "    if lsa_aggregation:\n",
    "        # Term to item vector aggregation.\n",
    "        item_similarity_lsa = aggregate_item_similarity(dtm_items, term_vectors_lsa, n_similarities=2, verbose=verbose)\n",
    "    else:\n",
    "        # Term vector averaging.\n",
    "        item_vectors_lsa_avg = vector_average(dtm_items, term_vectors_lsa, weighting=False)\n",
    "        item_similarity_lsa = pd.DataFrame(np.asarray(\n",
    "            np.asmatrix(item_vectors_lsa_avg) * np.asmatrix(item_vectors_lsa_avg).T),\n",
    "            index=item_vectors_lsa_avg.index.values, columns=item_vectors_lsa_avg.index.values)\n",
    "construct_similarity_lsa = aggregate_construct_similarity(item_similarity_lsa, gold_items, variable_ids,\n",
    "                                                          n_similarities=2, verbose=verbose)\n",
    "print(construct_similarity_lsa.shape, construct_identity_gold.shape)\n",
    "fpr_lsa, tpr_lsa, roc_auc_lsa = evaluate(construct_similarity_lsa, construct_identity_gold)\n",
    "print(\"ROC AUC LSA = %.3f\" % roc_auc_lsa)"
   ]
  },
  {
   "cell_type": "markdown",
   "metadata": {},
   "source": [
    "**GloVe**"
   ]
  },
  {
   "cell_type": "code",
   "execution_count": null,
   "metadata": {
    "scrolled": true
   },
   "outputs": [],
   "source": [
    "print(\"Computing construct similarity matrix with self-trained GloVe...\")\n",
    "glove_aggregation = False  # aggregate items by top-n similarity like with constructs\n",
    "vector_dict_trglove, loss_glove_items = train_vectors_glove(ttd_items, n_components=300, alpha=0.4, x_max=10.0,\n",
    "                                                            step_size=0.15, n_epochs=50, batch_size=64, workers=4,\n",
    "                                                            verbose=False)  # Train vectors.\n",
    "vector_dict_trglove = {dict_ix_term_items[key]: value for key, value in\n",
    "                       vector_dict_trglove.items()}  # Translate indices.\n",
    "term_vectors_trglove = term_vectors_from_dict(vector_dict_trglove, terms_items, normalize=True, verbose=True)\n",
    "if glove_aggregation:\n",
    "    item_similarity_trglove = aggregate_item_similarity(dtm_items, term_vectors_trglove, n_similarities=2,\n",
    "                                                        verbose=verbose)\n",
    "else:\n",
    "    item_vectors_trglove = vector_average(dtm_items, term_vectors_trglove, weighting=False)\n",
    "    # Compute item similarity. Set negative values to 0, unknown source.\n",
    "    item_similarity_trglove = pd.DataFrame(np.asarray(\n",
    "        np.asmatrix(item_vectors_trglove) * np.asmatrix(item_vectors_trglove).T).clip(min=0),\n",
    "                                           index=item_vectors_trglove.index.values,\n",
    "                                           columns=item_vectors_trglove.index.values)\n",
    "\n",
    "construct_similarity_trglove, sim_df_glove = aggregate_construct_similarity_with_itemids(item_similarity_trglove, \n",
    "                                                                                         gold_items, variable_ids,\n",
    "                                                                                         n_similarities=2,  \n",
    "                                                                                         verbose=verbose)\n",
    "fpr_trglove, tpr_trglove, roc_auc_trglove, thresh_trglove = evaluate(construct_similarity_trglove, construct_identity_gold)\n",
    "time.sleep(0.5)\n",
    "print(\"ROC AUC self-trained GloVe on FULL corpus = %.4f\" % roc_auc_trglove)"
   ]
  },
  {
   "cell_type": "markdown",
   "metadata": {},
   "source": [
    "# Appendix<a name=\"app\"></a>"
   ]
  },
  {
   "cell_type": "markdown",
   "metadata": {},
   "source": [
    "Compare tokenization of gold items with SciBERT and BERT"
   ]
  },
  {
   "cell_type": "code",
   "execution_count": 609,
   "metadata": {
    "scrolled": true
   },
   "outputs": [
    {
     "name": "stdout",
     "output_type": "stream",
     "text": [
      "Loading scibert model...\n",
      "Tokenizing corpus...\n",
      "Create tensors...\n",
      "Run model...\n",
      "Loading BERT model...\n",
      "Tokenizing corpus...\n",
      "Create tensors...\n",
      "Run model...\n"
     ]
    }
   ],
   "source": [
    "sent = bert_sentence_embedding(corpus, model='scibert')\n",
    "sent = bert_sentence_embedding(corpus, model='BERT')"
   ]
  },
  {
   "cell_type": "code",
   "execution_count": 614,
   "metadata": {},
   "outputs": [
    {
     "data": {
      "application/vnd.jupyter.widget-view+json": {
       "model_id": "5cf5bc7f2e8d4fd5af328b01bd55f37a",
       "version_major": 2,
       "version_minor": 0
      },
      "text/plain": [
       "HBox(children=(IntProgress(value=0, max=5100), HTML(value='')))"
      ]
     },
     "metadata": {},
     "output_type": "display_data"
    },
    {
     "name": "stdout",
     "output_type": "stream",
     "text": [
      "\n"
     ]
    },
    {
     "data": {
      "application/vnd.jupyter.widget-view+json": {
       "model_id": "844e3f828b9e4c4e8a7389d06f172b7a",
       "version_major": 2,
       "version_minor": 0
      },
      "text/plain": [
       "HBox(children=(IntProgress(value=0, max=5100), HTML(value='')))"
      ]
     },
     "metadata": {},
     "output_type": "display_data"
    },
    {
     "name": "stdout",
     "output_type": "stream",
     "text": [
      "\n",
      "Amount of split tokens using SciBERT:  2307\n",
      "Amount of split tokens using BERT:  2443\n"
     ]
    }
   ],
   "source": [
    "count_sci = 0\n",
    "for sent in tqdm.tqdm(tokenized_scibert):\n",
    "    for j in sent:\n",
    "        if '##' in j:\n",
    "            count_sci += 1\n",
    "        else:\n",
    "            continue\n",
    "\n",
    "count_bert = 0\n",
    "for sent in tqdm.tqdm(tokenized_bert):\n",
    "    for j in sent:\n",
    "        if '##' in j:\n",
    "            count_bert += 1\n",
    "        else:\n",
    "            continue\n",
    "            \n",
    "print('Amount of split tokens using SciBERT: ',count_sci)\n",
    "print('Amount of split tokens using BERT: ',count_bert)"
   ]
  }
 ],
 "metadata": {
  "accelerator": "GPU",
  "colab": {
   "collapsed_sections": [
    "KLZ4upFuzMRN",
    "XqaWDyJI6QRr",
    "gfeoAGLS6L4-",
    "KcOkG9lZ6ALb",
    "T4ym3SwJMsjw",
    "INZ0WSZd6X3u",
    "Vd9mlavJtA-C",
    "gtvOov3RtEoH",
    "CHCPtyhKtLcT"
   ],
   "machine_shape": "hm",
   "name": "GloVe_at_HICSS_understand_bert_plato.ipynb",
   "provenance": [],
   "toc_visible": true
  },
  "kernelspec": {
   "display_name": "Python 3",
   "language": "python",
   "name": "python3"
  },
  "language_info": {
   "codemirror_mode": {
    "name": "ipython",
    "version": 3
   },
   "file_extension": ".py",
   "mimetype": "text/x-python",
   "name": "python",
   "nbconvert_exporter": "python",
   "pygments_lexer": "ipython3",
   "version": "3.7.0"
  },
  "toc": {
   "base_numbering": 1,
   "nav_menu": {},
   "number_sections": true,
   "sideBar": true,
   "skip_h1_title": false,
   "title_cell": "Table of Contents",
   "title_sidebar": "Contents",
   "toc_cell": false,
   "toc_position": {
    "height": "calc(100% - 180px)",
    "left": "10px",
    "top": "150px",
    "width": "301px"
   },
   "toc_section_display": true,
   "toc_window_display": true
  },
  "widgets": {
   "application/vnd.jupyter.widget-state+json": {
    "2bc6c69fe37a468cbf48f63eb89d981c": {
     "model_module": "@jupyter-widgets/controls",
     "model_name": "FloatProgressModel",
     "state": {
      "_dom_classes": [],
      "_model_module": "@jupyter-widgets/controls",
      "_model_module_version": "1.5.0",
      "_model_name": "FloatProgressModel",
      "_view_count": null,
      "_view_module": "@jupyter-widgets/controls",
      "_view_module_version": "1.5.0",
      "_view_name": "ProgressView",
      "bar_style": "success",
      "description": "100%",
      "description_tooltip": null,
      "layout": "IPY_MODEL_9fe934205afc4deda98a8d236b6b4afa",
      "max": 5102,
      "min": 0,
      "orientation": "horizontal",
      "style": "IPY_MODEL_4510e92274944d92902f82feb2246f44",
      "value": 5102
     }
    },
    "4510e92274944d92902f82feb2246f44": {
     "model_module": "@jupyter-widgets/controls",
     "model_name": "ProgressStyleModel",
     "state": {
      "_model_module": "@jupyter-widgets/controls",
      "_model_module_version": "1.5.0",
      "_model_name": "ProgressStyleModel",
      "_view_count": null,
      "_view_module": "@jupyter-widgets/base",
      "_view_module_version": "1.2.0",
      "_view_name": "StyleView",
      "bar_color": null,
      "description_width": "initial"
     }
    },
    "6b0b98e665904846b9719cc55bacb289": {
     "model_module": "@jupyter-widgets/controls",
     "model_name": "HTMLModel",
     "state": {
      "_dom_classes": [],
      "_model_module": "@jupyter-widgets/controls",
      "_model_module_version": "1.5.0",
      "_model_name": "HTMLModel",
      "_view_count": null,
      "_view_module": "@jupyter-widgets/controls",
      "_view_module_version": "1.5.0",
      "_view_name": "HTMLView",
      "description": "",
      "description_tooltip": null,
      "layout": "IPY_MODEL_87ebe6731642487e88bc6f189028b25d",
      "placeholder": "​",
      "style": "IPY_MODEL_93e796ebdb96497281105544297483d3",
      "value": " 5102/5102 [11:33&lt;00:00,  7.36it/s]"
     }
    },
    "87ebe6731642487e88bc6f189028b25d": {
     "model_module": "@jupyter-widgets/base",
     "model_name": "LayoutModel",
     "state": {
      "_model_module": "@jupyter-widgets/base",
      "_model_module_version": "1.2.0",
      "_model_name": "LayoutModel",
      "_view_count": null,
      "_view_module": "@jupyter-widgets/base",
      "_view_module_version": "1.2.0",
      "_view_name": "LayoutView",
      "align_content": null,
      "align_items": null,
      "align_self": null,
      "border": null,
      "bottom": null,
      "display": null,
      "flex": null,
      "flex_flow": null,
      "grid_area": null,
      "grid_auto_columns": null,
      "grid_auto_flow": null,
      "grid_auto_rows": null,
      "grid_column": null,
      "grid_gap": null,
      "grid_row": null,
      "grid_template_areas": null,
      "grid_template_columns": null,
      "grid_template_rows": null,
      "height": null,
      "justify_content": null,
      "justify_items": null,
      "left": null,
      "margin": null,
      "max_height": null,
      "max_width": null,
      "min_height": null,
      "min_width": null,
      "object_fit": null,
      "object_position": null,
      "order": null,
      "overflow": null,
      "overflow_x": null,
      "overflow_y": null,
      "padding": null,
      "right": null,
      "top": null,
      "visibility": null,
      "width": null
     }
    },
    "93e796ebdb96497281105544297483d3": {
     "model_module": "@jupyter-widgets/controls",
     "model_name": "DescriptionStyleModel",
     "state": {
      "_model_module": "@jupyter-widgets/controls",
      "_model_module_version": "1.5.0",
      "_model_name": "DescriptionStyleModel",
      "_view_count": null,
      "_view_module": "@jupyter-widgets/base",
      "_view_module_version": "1.2.0",
      "_view_name": "StyleView",
      "description_width": ""
     }
    },
    "9fe934205afc4deda98a8d236b6b4afa": {
     "model_module": "@jupyter-widgets/base",
     "model_name": "LayoutModel",
     "state": {
      "_model_module": "@jupyter-widgets/base",
      "_model_module_version": "1.2.0",
      "_model_name": "LayoutModel",
      "_view_count": null,
      "_view_module": "@jupyter-widgets/base",
      "_view_module_version": "1.2.0",
      "_view_name": "LayoutView",
      "align_content": null,
      "align_items": null,
      "align_self": null,
      "border": null,
      "bottom": null,
      "display": null,
      "flex": null,
      "flex_flow": null,
      "grid_area": null,
      "grid_auto_columns": null,
      "grid_auto_flow": null,
      "grid_auto_rows": null,
      "grid_column": null,
      "grid_gap": null,
      "grid_row": null,
      "grid_template_areas": null,
      "grid_template_columns": null,
      "grid_template_rows": null,
      "height": null,
      "justify_content": null,
      "justify_items": null,
      "left": null,
      "margin": null,
      "max_height": null,
      "max_width": null,
      "min_height": null,
      "min_width": null,
      "object_fit": null,
      "object_position": null,
      "order": null,
      "overflow": null,
      "overflow_x": null,
      "overflow_y": null,
      "padding": null,
      "right": null,
      "top": null,
      "visibility": null,
      "width": null
     }
    },
    "c03aa64153b04eabaf92146e7ae4b704": {
     "model_module": "@jupyter-widgets/base",
     "model_name": "LayoutModel",
     "state": {
      "_model_module": "@jupyter-widgets/base",
      "_model_module_version": "1.2.0",
      "_model_name": "LayoutModel",
      "_view_count": null,
      "_view_module": "@jupyter-widgets/base",
      "_view_module_version": "1.2.0",
      "_view_name": "LayoutView",
      "align_content": null,
      "align_items": null,
      "align_self": null,
      "border": null,
      "bottom": null,
      "display": null,
      "flex": null,
      "flex_flow": null,
      "grid_area": null,
      "grid_auto_columns": null,
      "grid_auto_flow": null,
      "grid_auto_rows": null,
      "grid_column": null,
      "grid_gap": null,
      "grid_row": null,
      "grid_template_areas": null,
      "grid_template_columns": null,
      "grid_template_rows": null,
      "height": null,
      "justify_content": null,
      "justify_items": null,
      "left": null,
      "margin": null,
      "max_height": null,
      "max_width": null,
      "min_height": null,
      "min_width": null,
      "object_fit": null,
      "object_position": null,
      "order": null,
      "overflow": null,
      "overflow_x": null,
      "overflow_y": null,
      "padding": null,
      "right": null,
      "top": null,
      "visibility": null,
      "width": null
     }
    },
    "ef1fc9883aef4d5dac33f23ca3a81eb8": {
     "model_module": "@jupyter-widgets/controls",
     "model_name": "HBoxModel",
     "state": {
      "_dom_classes": [],
      "_model_module": "@jupyter-widgets/controls",
      "_model_module_version": "1.5.0",
      "_model_name": "HBoxModel",
      "_view_count": null,
      "_view_module": "@jupyter-widgets/controls",
      "_view_module_version": "1.5.0",
      "_view_name": "HBoxView",
      "box_style": "",
      "children": [
       "IPY_MODEL_2bc6c69fe37a468cbf48f63eb89d981c",
       "IPY_MODEL_6b0b98e665904846b9719cc55bacb289"
      ],
      "layout": "IPY_MODEL_c03aa64153b04eabaf92146e7ae4b704"
     }
    }
   }
  }
 },
 "nbformat": 4,
 "nbformat_minor": 2
}
